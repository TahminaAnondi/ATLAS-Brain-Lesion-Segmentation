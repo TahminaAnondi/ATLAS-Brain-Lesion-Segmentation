{
 "cells": [
  {
   "cell_type": "code",
   "execution_count": 2,
   "metadata": {},
   "outputs": [],
   "source": [
    "import numpy as np                  # for working with tensors outside the network\n",
    "import pandas as pd                 # for data reading and writing\n",
    "import matplotlib.pyplot as plt     # for data inspection\n",
    "import os\n",
    "from skimage.io import imread\n",
    "from skimage.transform import resize"
   ]
  },
  {
   "cell_type": "code",
   "execution_count": 3,
   "metadata": {},
   "outputs": [],
   "source": [
    "from keras.layers import Input, Conv2D, Activation, BatchNormalization, GlobalAveragePooling2D, Dense, Dropout\n",
    "from keras.layers import add\n",
    "from tensorflow.keras.layers import concatenate\n",
    "from keras.activations import relu, softmax\n",
    "from keras.models import Model\n",
    "from keras import regularizers\n",
    "from keras.preprocessing.image import ImageDataGenerator\n",
    "from keras.callbacks import LearningRateScheduler, ModelCheckpoint\n",
    "\n"
   ]
  },
  {
   "cell_type": "code",
   "execution_count": 4,
   "metadata": {},
   "outputs": [],
   "source": [
    "from sklearn.preprocessing import OneHotEncoder\n",
    "from sklearn.model_selection import train_test_split"
   ]
  },
  {
   "cell_type": "code",
   "execution_count": 10,
   "metadata": {},
   "outputs": [],
   "source": [
    "def block(n_output, upscale=False):\n",
    "    # n_output: number of feature maps in the block\n",
    "    # upscale: should we use the 1x1 conv2d mapping for shortcut or not\n",
    "    \n",
    "    # keras functional api: return the function of type\n",
    "    # Tensor -> Tensor\n",
    "    def f(x):\n",
    "        \n",
    "        # H_l(x):\n",
    "        # first pre-activation\n",
    "        h = BatchNormalization()(x)\n",
    "        h = Activation(relu)(h)\n",
    "        \n",
    "        # first convolution\n",
    "        h = Conv2D(kernel_size=3, filters=n_output, strides=1, padding='same', kernel_regularizer=regularizers.l2(0.01))(h)\n",
    "        \n",
    "        # second pre-activation\n",
    "        h = BatchNormalization()(x)\n",
    "        h = Activation(relu)(h)\n",
    "        # second convolution\n",
    "        h = Conv2D(kernel_size=3, filters=n_output, strides=1, padding='same', kernel_regularizer=regularizers.l2(0.01))(h)\n",
    "        \n",
    "        # f(x):\n",
    "        if upscale:\n",
    "            # 1x1 conv2d\n",
    "            f = Conv2D(kernel_size=1, filters=n_output, strides=1, padding='same')(x)\n",
    "        else:\n",
    "            # identity\n",
    "            f = x\n",
    "        \n",
    "        # F_l(x) = f(x) + H_l(x):\n",
    "        return add([f, h])\n",
    "    \n",
    "    return f"
   ]
  },
  {
   "cell_type": "code",
   "execution_count": 112,
   "metadata": {},
   "outputs": [],
   "source": [
    "# input tensor is the 128x128 grayscale image of X-ray\n",
    "def ResNet():\n",
    "    input_tensor = Input((128, 128, 1))\n",
    "\n",
    "    # first conv2d with post-activation to transform the input data to some reasonable form\n",
    "    x = Conv2D(kernel_size=3, filters=16, strides=1, padding='same', kernel_regularizer=regularizers.l2(0.01))(input_tensor)\n",
    "    x = BatchNormalization()(x)\n",
    "    x = Activation(relu)(x)\n",
    "\n",
    "    # F_1\n",
    "    x = block(16)(x)\n",
    "    # F_2\n",
    "    x = block(16)(x)\n",
    "\n",
    "    # F_3\n",
    "    # H_3 is the function from the tensor of size 28x28x16 to the the tensor of size 28x28x32\n",
    "    # and we can't add together tensors of inconsistent sizes, so we use upscale=True\n",
    "    # x = block(32, upscale=True)(x)       # !!! <------- Uncomment for local evaluation\n",
    "    # F_4\n",
    "    # x = block(32)(x)                     # !!! <------- Uncomment for local evaluation\n",
    "    # F_5\n",
    "    # x = block(32)(x)                     # !!! <------- Uncomment for local evaluation\n",
    "\n",
    "    # F_6\n",
    "    # x = block(48, upscale=True)(x)       # !!! <------- Uncomment for local evaluation\n",
    "    # F_7\n",
    "    # x = block(48)(x)                     # !!! <------- Uncomment for local evaluation\n",
    "\n",
    "    # last activation of the entire network's output\n",
    "    x = BatchNormalization()(x)\n",
    "    x = Activation(relu)(x)\n",
    "\n",
    "    # average pooling across the channels\n",
    "    # 28x28x48 -> 1x48\n",
    "    x = GlobalAveragePooling2D()(x)\n",
    "\n",
    "    # dropout for more robust learning\n",
    "    x = Dropout(0.2)(x)\n",
    "\n",
    "    # last softmax layer\n",
    "    x = Dense(units=9, kernel_regularizer=regularizers.l2(0.01))(x)\n",
    "    x = Activation(softmax)(x)\n",
    "\n",
    "    model = Model(inputs=input_tensor, outputs=x)\n",
    "    return model\n",
    "\n",
    "model = ResNet()\n",
    "model.compile(loss='categorical_crossentropy', optimizer='adam', metrics=['accuracy'])"
   ]
  },
  {
   "cell_type": "code",
   "execution_count": 133,
   "metadata": {},
   "outputs": [],
   "source": [
    "# Data and model parameters\n",
    "img_ch, img_width, img_height = 1, 128, 128\n",
    "n_epochs = 80\n",
    "Batch_Size = 32\n",
    "Base = 8\n",
    "LR = 0.00001\n",
    "\n",
    "TRAIN_DIR = '/DL_course_data/Lab1/X_ray/train/'\n",
    "VAL_DIR = '/DL_course_data/Lab1/X_ray/test/'"
   ]
  },
  {
   "cell_type": "code",
   "execution_count": 122,
   "metadata": {},
   "outputs": [
    {
     "name": "stdout",
     "output_type": "stream",
     "text": [
      "Reading: 0/5780  of train images\n",
      "Reading: 100/5780  of train images\n",
      "Reading: 200/5780  of train images\n",
      "Reading: 300/5780  of train images\n",
      "Reading: 400/5780  of train images\n",
      "Reading: 500/5780  of train images\n",
      "Reading: 600/5780  of train images\n",
      "Reading: 700/5780  of train images\n",
      "Reading: 800/5780  of train images\n",
      "Reading: 900/5780  of train images\n",
      "Reading: 1000/5780  of train images\n",
      "Reading: 1100/5780  of train images\n",
      "Reading: 1200/5780  of train images\n",
      "Reading: 1300/5780  of train images\n",
      "Reading: 1400/5780  of train images\n",
      "Reading: 1500/5780  of train images\n",
      "Reading: 1600/5780  of train images\n",
      "Reading: 1700/5780  of train images\n",
      "Reading: 1800/5780  of train images\n",
      "Reading: 1900/5780  of train images\n",
      "Reading: 2000/5780  of train images\n",
      "Reading: 2100/5780  of train images\n",
      "Reading: 2200/5780  of train images\n",
      "Reading: 2300/5780  of train images\n",
      "Reading: 2400/5780  of train images\n",
      "Reading: 2500/5780  of train images\n",
      "Reading: 2600/5780  of train images\n",
      "Reading: 2700/5780  of train images\n",
      "Reading: 2800/5780  of train images\n",
      "Reading: 2900/5780  of train images\n",
      "Reading: 3000/5780  of train images\n",
      "Reading: 3100/5780  of train images\n",
      "Reading: 3200/5780  of train images\n",
      "Reading: 3300/5780  of train images\n",
      "Reading: 3400/5780  of train images\n",
      "Reading: 3500/5780  of train images\n",
      "Reading: 3600/5780  of train images\n",
      "Reading: 3700/5780  of train images\n",
      "Reading: 3800/5780  of train images\n",
      "Reading: 3900/5780  of train images\n",
      "Reading: 4000/5780  of train images\n",
      "Reading: 4100/5780  of train images\n",
      "Reading: 4200/5780  of train images\n",
      "Reading: 4300/5780  of train images\n",
      "Reading: 4400/5780  of train images\n",
      "Reading: 4500/5780  of train images\n",
      "Reading: 4600/5780  of train images\n",
      "Reading: 4700/5780  of train images\n",
      "Reading: 4800/5780  of train images\n",
      "Reading: 4900/5780  of train images\n",
      "Reading: 5000/5780  of train images\n",
      "Reading: 5100/5780  of train images\n",
      "Reading: 5200/5780  of train images\n",
      "Reading: 5300/5780  of train images\n",
      "Reading: 5400/5780  of train images\n",
      "Reading: 5500/5780  of train images\n",
      "Reading: 5600/5780  of train images\n",
      "Reading: 5700/5780  of train images\n",
      "Reading: 0/450  of train images\n",
      "Reading: 100/450  of train images\n",
      "Reading: 200/450  of train images\n",
      "Reading: 300/450  of train images\n",
      "Reading: 400/450  of train images\n"
     ]
    }
   ],
   "source": [
    "from random import shuffle\n",
    "\n",
    "def gen_labels(im_name, pat1, pat2, pat3, pat4, pat5, pat6, pat7, pat8, pat9):\n",
    "    '''\n",
    "    Parameters\n",
    "    ----------\n",
    "    im_name : Str\n",
    "        The image file name.\n",
    "    pat1 : Str\n",
    "        A string pattern in the filename for 1st class, e.g \"Mel\"\n",
    "    pat2 : Str\n",
    "        A string pattern in the filename 2nd class, e.g, \"Nev\"\n",
    "    Returns\n",
    "    -------\n",
    "    Label : Numpy array\n",
    "        Class label of the filename name based on its pattern.\n",
    "    '''\n",
    "    if pat1 in im_name:\n",
    "        label = np.array([0])\n",
    "    elif pat2 in im_name:\n",
    "        label = np.array([1])\n",
    "    elif pat3 in im_name:\n",
    "        label = np.array([2])\n",
    "    elif pat4 in im_name:\n",
    "        label = np.array([3])\n",
    "    elif pat5 in im_name:\n",
    "        label = np.array([4])\n",
    "    elif pat6 in im_name:\n",
    "        label = np.array([5])\n",
    "    elif pat7 in im_name:\n",
    "        label = np.array([6])\n",
    "    elif pat8 in im_name:\n",
    "        label = np.array([7])\n",
    "    elif pat9 in im_name:\n",
    "        label = np.array([8])\n",
    "    return label\n",
    "\n",
    "def get_data(data_path, data_list, img_h, img_w):\n",
    "    \"\"\"\n",
    "    Parameters\n",
    "    ----------\n",
    "    train_data_path : Str\n",
    "        Path to the data directory\n",
    "    train_list : List\n",
    "        A list containing the name of the images.\n",
    "    img_h : Int\n",
    "        image height to be resized to.\n",
    "    img_w : Int\n",
    "        image width to be resized to.\n",
    "    Returns\n",
    "    -------\n",
    "    img_labels : Nested List\n",
    "        A nested list containing the loaded images along with their\n",
    "        correcponding labels.\n",
    "    \"\"\"\n",
    "    img_labels = []\n",
    "    for item in enumerate(data_list):\n",
    "        img = imread(os.path.join(data_path, item[1]), as_gray = True) # \"as_grey\"\n",
    "        img = resize(img, (img_h, img_w), anti_aliasing = True).astype('float32')\n",
    "        img_labels.append([np.array(img), gen_labels(item[1], 'C1', 'C2','C3','C4','C5','C6','C7','C8','C9')])\n",
    "        if item[0] % 100 == 0:\n",
    "             print('Reading: {0}/{1}  of train images'.format(item[0], len(data_list)))\n",
    "    shuffle(img_labels)\n",
    "    return img_labels\n",
    "\n",
    "def get_data_arrays(nested_list, img_h, img_w):\n",
    "    \"\"\"\n",
    "    Parameters\n",
    "    ----------\n",
    "    nested_list : nested list\n",
    "        nested list of image arrays with corresponding class labels.\n",
    "    img_h : Int\n",
    "        Image height.\n",
    "    img_w : Int\n",
    "    Image width.\n",
    "    Returns\n",
    "    -------\n",
    "    img_arrays : Numpy array\n",
    "        4D Array with the size of (n_data,img_h,img_w, 1)\n",
    "    label_arrays : Numpy array\n",
    "        1D array with the size (n_data).\n",
    "    \"\"\"\n",
    "    img_arrays = np.zeros((len(nested_list), img_h, img_w), dtype = np.float32)\n",
    "    label_arrays = np.zeros((len(nested_list)), dtype = np.int32)\n",
    "    for ind in range(len(nested_list)):\n",
    "        img_arrays[ind] = nested_list[ind][0]\n",
    "        label_arrays[ind] = nested_list[ind][1]\n",
    "    img_arrays = np.expand_dims(img_arrays, axis =3)\n",
    "    return img_arrays, label_arrays\n",
    "\n",
    "def get_train_test_arrays(train_data_path, test_data_path, train_list,\n",
    "                          test_list, img_h, img_w):\n",
    "    \"\"\"\n",
    "    Get the directory to the train and test sets, the files names and\n",
    "    the size of the image and return the image and label arrays for\n",
    "    train and test sets.\n",
    "    \"\"\"\n",
    "    train_data = get_data(train_data_path, train_list, img_h, img_w)\n",
    "    test_data = get_data(test_data_path, test_list, img_h, img_w)\n",
    "    train_img, train_label =  get_data_arrays(train_data, img_h, img_w)\n",
    "    test_img, test_label = get_data_arrays(test_data, img_h, img_w)\n",
    "    del(train_data)\n",
    "    del(test_data)\n",
    "    return train_img, test_img, train_label, test_label\n",
    "\n",
    "\n",
    "img_w, img_h = 128, 128      # Setting the width and heights of the images.\n",
    "data_path = '/DL_course_data/Lab1/X_ray'     # Path to data root with two subdirs.\n",
    "train_data_path = os.path.join(data_path, 'train')\n",
    "test_data_path = os.path.join(data_path, 'test')\n",
    "train_list = os.listdir(train_data_path)\n",
    "test_list = os.listdir(test_data_path)\n",
    "x_train, x_test, y_train, y_test = get_train_test_arrays(\n",
    "        train_data_path, test_data_path,\n",
    "        train_list, test_list, img_h, img_w)"
   ]
  },
  {
   "cell_type": "code",
   "execution_count": 127,
   "metadata": {},
   "outputs": [
    {
     "data": {
      "text/plain": [
       "5780"
      ]
     },
     "execution_count": 127,
     "metadata": {},
     "output_type": "execute_result"
    }
   ],
   "source": [
    "import tensorflow as tf\n",
    "y_train_n = tf.keras.utils.to_categorical(y_train,num_classes=9, dtype='float32')\n",
    "y_test_n = tf.keras.utils.to_categorical(y_test,num_classes=9, dtype='float32')\n",
    "len(x_train)"
   ]
  },
  {
   "cell_type": "code",
   "execution_count": 130,
   "metadata": {},
   "outputs": [
    {
     "name": "stdout",
     "output_type": "stream",
     "text": [
      "6230\n"
     ]
    }
   ],
   "source": [
    "x = np.concatenate((x_train,x_test))\n",
    "y = np.concatenate((y_train_n,y_test_n))\n"
   ]
  },
  {
   "cell_type": "code",
   "execution_count": 101,
   "metadata": {},
   "outputs": [],
   "source": [
    "train_datagen = ImageDataGenerator(rotation_range=10,\n",
    "                                   width_shift_range=0.1,\n",
    "                                   height_shift_range=0.1,\n",
    "                                   rescale=1./255,\n",
    "                                   horizontal_flip=True)\n",
    "                    \n",
    "x_train_generator = train_datagen.flow(x_train,  \n",
    "                                    batch_size = Batch_Size)\n",
    "\n",
    "\n",
    "# Create validation generator\n",
    "val_datagen = ImageDataGenerator(rescale=1./255)\n",
    "x_val_generator = val_datagen.flow(x_test, \n",
    "                                batch_size = Batch_Size,\n",
    "                                seed=42)\n",
    "\n",
    "                                                "
   ]
  },
  {
   "cell_type": "code",
   "execution_count": 72,
   "metadata": {},
   "outputs": [],
   "source": [
    "# Define class weight for the inbalance in the dataset\n",
    "from sklearn.utils import class_weight\n",
    "def get_length(idx):\n",
    "    return len(y_train[np.where(y_train == idx)])\n",
    "\n",
    "labels_dict = {0: get_length(0), 1: get_length(1), 2: get_length(2), 3: get_length(3), \n",
    "                4: get_length(4), 5: get_length(5), 6: get_length(6), 7: get_length(7), 8: get_length(8)}"
   ]
  },
  {
   "cell_type": "code",
   "execution_count": 80,
   "metadata": {},
   "outputs": [
    {
     "data": {
      "text/plain": [
       "{0: 1.0,\n",
       " 1: 1.0,\n",
       " 2: 1.0,\n",
       " 3: 1.8360104809901925,\n",
       " 4: 2.1044875736059234,\n",
       " 5: 2.3043534400507877,\n",
       " 6: 2.3730303058470072,\n",
       " 7: 2.4018784601846654,\n",
       " 8: 2.467393067295292}"
      ]
     },
     "execution_count": 80,
     "metadata": {},
     "output_type": "execute_result"
    }
   ],
   "source": [
    "import math\n",
    "\n",
    "def get_class_weight(labels_dict):\n",
    "    \"\"\"Calculate the weights of different categories\"\"\"\n",
    "    total = sum(labels_dict.values())\n",
    "    max_num = max(labels_dict.values())\n",
    "    mu = 1.0 / (total / max_num)\n",
    "    class_weight = dict()\n",
    "    for key, value in labels_dict.items():\n",
    "        score = math.log(mu * total / float(value))\n",
    "        class_weight[key] = score if score > 1.0 else 1.0\n",
    "    return class_weight\n",
    "\n",
    "class_weight = get_class_weight(labels_dict)\n",
    "class_weight"
   ]
  },
  {
   "cell_type": "code",
   "execution_count": 81,
   "metadata": {},
   "outputs": [],
   "source": [
    "# Create checkpoint for the model, save the best model\n",
    "mc = ModelCheckpoint('weights.best.keras', monitor='val_acc', save_best_only=True)"
   ]
  },
  {
   "cell_type": "code",
   "execution_count": 82,
   "metadata": {},
   "outputs": [
    {
     "data": {
      "image/png": "[encoded data removed]",
      "text/plain": [
       "<Figure size 640x480 with 1 Axes>"
      ]
     },
     "metadata": {},
     "output_type": "display_data"
    }
   ],
   "source": [
    "# Define learning rate scheduler \n",
    "# Use sigmoidal decay as the learning rate policy\n",
    "def sigmoidal_decay(e, start=0, end=100, lr_start=1e-3, lr_end=1e-5):\n",
    "    if e < start:\n",
    "        return lr_start\n",
    "    \n",
    "    if e > end:\n",
    "        return lr_end\n",
    "    \n",
    "    middle = (start + end) / 2\n",
    "    s = lambda x: 1 / (1 + np.exp(-x))\n",
    "    \n",
    "    return s(13 * (-e + middle) / np.abs(end - start)) * np.abs(lr_start - lr_end) + lr_end\n",
    "\n",
    "xs = np.linspace(0, 100)\n",
    "ys = np.vectorize(sigmoidal_decay)(xs)\n",
    "plt.plot(xs, ys)\n",
    "plt.show()\n",
    "\n",
    "EPOCHS = 3                       \n",
    "lr = LearningRateScheduler(lambda e: sigmoidal_decay(e, end=EPOCHS))\n"
   ]
  },
  {
   "cell_type": "code",
   "execution_count": 110,
   "metadata": {},
   "outputs": [],
   "source": [
    "from sklearn.model_selection import KFold\n",
    "\n",
    "kf = KFold(n_splits=4)\n",
    "cvscores = []"
   ]
  },
  {
   "cell_type": "code",
   "execution_count": 134,
   "metadata": {},
   "outputs": [
    {
     "name": "stdout",
     "output_type": "stream",
     "text": [
      "Epoch 1/80\n",
      " 39/146 [=======>......................] - ETA: 2:39 - loss: 3.1890 - accuracy: 0.3862"
     ]
    },
    {
     "ename": "KeyboardInterrupt",
     "evalue": "",
     "output_type": "error",
     "traceback": [
      "\u001b[0;31m---------------------------------------------------------------------------\u001b[0m",
      "\u001b[0;31mKeyboardInterrupt\u001b[0m                         Traceback (most recent call last)",
      "\u001b[1;32m/Users/xinyi/Documents/GitHub/deep_learning_G5/Lab3(not finished due to server issue)/Bouns.ipynb Cell 16\u001b[0m in \u001b[0;36m<cell line: 5>\u001b[0;34m()\u001b[0m\n\u001b[1;32m      <a href='vscode-notebook-cell:/Users/xinyi/Documents/GitHub/deep_learning_G5/Lab3%28not%20finished%20due%20to%20server%20issue%29/Bouns.ipynb#X12sZmlsZQ%3D%3D?line=8'>9</a>\u001b[0m model \u001b[39m=\u001b[39m ResNet()\n\u001b[1;32m     <a href='vscode-notebook-cell:/Users/xinyi/Documents/GitHub/deep_learning_G5/Lab3%28not%20finished%20due%20to%20server%20issue%29/Bouns.ipynb#X12sZmlsZQ%3D%3D?line=9'>10</a>\u001b[0m model\u001b[39m.\u001b[39mcompile(loss\u001b[39m=\u001b[39m\u001b[39m'\u001b[39m\u001b[39mcategorical_crossentropy\u001b[39m\u001b[39m'\u001b[39m, optimizer\u001b[39m=\u001b[39m\u001b[39m'\u001b[39m\u001b[39madam\u001b[39m\u001b[39m'\u001b[39m, metrics\u001b[39m=\u001b[39m[\u001b[39m'\u001b[39m\u001b[39maccuracy\u001b[39m\u001b[39m'\u001b[39m])\n\u001b[0;32m---> <a href='vscode-notebook-cell:/Users/xinyi/Documents/GitHub/deep_learning_G5/Lab3%28not%20finished%20due%20to%20server%20issue%29/Bouns.ipynb#X12sZmlsZQ%3D%3D?line=11'>12</a>\u001b[0m History \u001b[39m=\u001b[39m model\u001b[39m.\u001b[39;49mfit(x_train,y_train, \n\u001b[1;32m     <a href='vscode-notebook-cell:/Users/xinyi/Documents/GitHub/deep_learning_G5/Lab3%28not%20finished%20due%20to%20server%20issue%29/Bouns.ipynb#X12sZmlsZQ%3D%3D?line=12'>13</a>\u001b[0m     validation_data \u001b[39m=\u001b[39;49m (x_val, y_val), \n\u001b[1;32m     <a href='vscode-notebook-cell:/Users/xinyi/Documents/GitHub/deep_learning_G5/Lab3%28not%20finished%20due%20to%20server%20issue%29/Bouns.ipynb#X12sZmlsZQ%3D%3D?line=13'>14</a>\u001b[0m     epochs \u001b[39m=\u001b[39;49m n_epochs,  verbose\u001b[39m=\u001b[39;49m\u001b[39m1\u001b[39;49m, class_weight \u001b[39m=\u001b[39;49m class_weight, callbacks \u001b[39m=\u001b[39;49m [lr,mc])\n\u001b[1;32m     <a href='vscode-notebook-cell:/Users/xinyi/Documents/GitHub/deep_learning_G5/Lab3%28not%20finished%20due%20to%20server%20issue%29/Bouns.ipynb#X12sZmlsZQ%3D%3D?line=15'>16</a>\u001b[0m plt\u001b[39m.\u001b[39mfigure(figsize\u001b[39m=\u001b[39m(\u001b[39m4\u001b[39m, \u001b[39m4\u001b[39m))\n\u001b[1;32m     <a href='vscode-notebook-cell:/Users/xinyi/Documents/GitHub/deep_learning_G5/Lab3%28not%20finished%20due%20to%20server%20issue%29/Bouns.ipynb#X12sZmlsZQ%3D%3D?line=16'>17</a>\u001b[0m plt\u001b[39m.\u001b[39mtitle(\u001b[39m\"\u001b[39m\u001b[39mLearning curve\u001b[39m\u001b[39m\"\u001b[39m)\n",
      "File \u001b[0;32m/usr/local/lib/python3.8/dist-packages/keras/utils/traceback_utils.py:64\u001b[0m, in \u001b[0;36mfilter_traceback.<locals>.error_handler\u001b[0;34m(*args, **kwargs)\u001b[0m\n\u001b[1;32m     62\u001b[0m filtered_tb \u001b[39m=\u001b[39m \u001b[39mNone\u001b[39;00m\n\u001b[1;32m     63\u001b[0m \u001b[39mtry\u001b[39;00m:\n\u001b[0;32m---> 64\u001b[0m   \u001b[39mreturn\u001b[39;00m fn(\u001b[39m*\u001b[39;49margs, \u001b[39m*\u001b[39;49m\u001b[39m*\u001b[39;49mkwargs)\n\u001b[1;32m     65\u001b[0m \u001b[39mexcept\u001b[39;00m \u001b[39mException\u001b[39;00m \u001b[39mas\u001b[39;00m e:  \u001b[39m# pylint: disable=broad-except\u001b[39;00m\n\u001b[1;32m     66\u001b[0m   filtered_tb \u001b[39m=\u001b[39m _process_traceback_frames(e\u001b[39m.\u001b[39m__traceback__)\n",
      "File \u001b[0;32m/usr/local/lib/python3.8/dist-packages/keras/engine/training.py:1409\u001b[0m, in \u001b[0;36mModel.fit\u001b[0;34m(self, x, y, batch_size, epochs, verbose, callbacks, validation_split, validation_data, shuffle, class_weight, sample_weight, initial_epoch, steps_per_epoch, validation_steps, validation_batch_size, validation_freq, max_queue_size, workers, use_multiprocessing)\u001b[0m\n\u001b[1;32m   1402\u001b[0m \u001b[39mwith\u001b[39;00m tf\u001b[39m.\u001b[39mprofiler\u001b[39m.\u001b[39mexperimental\u001b[39m.\u001b[39mTrace(\n\u001b[1;32m   1403\u001b[0m     \u001b[39m'\u001b[39m\u001b[39mtrain\u001b[39m\u001b[39m'\u001b[39m,\n\u001b[1;32m   1404\u001b[0m     epoch_num\u001b[39m=\u001b[39mepoch,\n\u001b[1;32m   1405\u001b[0m     step_num\u001b[39m=\u001b[39mstep,\n\u001b[1;32m   1406\u001b[0m     batch_size\u001b[39m=\u001b[39mbatch_size,\n\u001b[1;32m   1407\u001b[0m     _r\u001b[39m=\u001b[39m\u001b[39m1\u001b[39m):\n\u001b[1;32m   1408\u001b[0m   callbacks\u001b[39m.\u001b[39mon_train_batch_begin(step)\n\u001b[0;32m-> 1409\u001b[0m   tmp_logs \u001b[39m=\u001b[39m \u001b[39mself\u001b[39;49m\u001b[39m.\u001b[39;49mtrain_function(iterator)\n\u001b[1;32m   1410\u001b[0m   \u001b[39mif\u001b[39;00m data_handler\u001b[39m.\u001b[39mshould_sync:\n\u001b[1;32m   1411\u001b[0m     context\u001b[39m.\u001b[39masync_wait()\n",
      "File \u001b[0;32m/usr/local/lib/python3.8/dist-packages/tensorflow/python/util/traceback_utils.py:150\u001b[0m, in \u001b[0;36mfilter_traceback.<locals>.error_handler\u001b[0;34m(*args, **kwargs)\u001b[0m\n\u001b[1;32m    148\u001b[0m filtered_tb \u001b[39m=\u001b[39m \u001b[39mNone\u001b[39;00m\n\u001b[1;32m    149\u001b[0m \u001b[39mtry\u001b[39;00m:\n\u001b[0;32m--> 150\u001b[0m   \u001b[39mreturn\u001b[39;00m fn(\u001b[39m*\u001b[39;49margs, \u001b[39m*\u001b[39;49m\u001b[39m*\u001b[39;49mkwargs)\n\u001b[1;32m    151\u001b[0m \u001b[39mexcept\u001b[39;00m \u001b[39mException\u001b[39;00m \u001b[39mas\u001b[39;00m e:\n\u001b[1;32m    152\u001b[0m   filtered_tb \u001b[39m=\u001b[39m _process_traceback_frames(e\u001b[39m.\u001b[39m__traceback__)\n",
      "File \u001b[0;32m/usr/local/lib/python3.8/dist-packages/tensorflow/python/eager/def_function.py:915\u001b[0m, in \u001b[0;36mFunction.__call__\u001b[0;34m(self, *args, **kwds)\u001b[0m\n\u001b[1;32m    912\u001b[0m compiler \u001b[39m=\u001b[39m \u001b[39m\"\u001b[39m\u001b[39mxla\u001b[39m\u001b[39m\"\u001b[39m \u001b[39mif\u001b[39;00m \u001b[39mself\u001b[39m\u001b[39m.\u001b[39m_jit_compile \u001b[39melse\u001b[39;00m \u001b[39m\"\u001b[39m\u001b[39mnonXla\u001b[39m\u001b[39m\"\u001b[39m\n\u001b[1;32m    914\u001b[0m \u001b[39mwith\u001b[39;00m OptionalXlaContext(\u001b[39mself\u001b[39m\u001b[39m.\u001b[39m_jit_compile):\n\u001b[0;32m--> 915\u001b[0m   result \u001b[39m=\u001b[39m \u001b[39mself\u001b[39;49m\u001b[39m.\u001b[39;49m_call(\u001b[39m*\u001b[39;49margs, \u001b[39m*\u001b[39;49m\u001b[39m*\u001b[39;49mkwds)\n\u001b[1;32m    917\u001b[0m new_tracing_count \u001b[39m=\u001b[39m \u001b[39mself\u001b[39m\u001b[39m.\u001b[39mexperimental_get_tracing_count()\n\u001b[1;32m    918\u001b[0m without_tracing \u001b[39m=\u001b[39m (tracing_count \u001b[39m==\u001b[39m new_tracing_count)\n",
      "File \u001b[0;32m/usr/local/lib/python3.8/dist-packages/tensorflow/python/eager/def_function.py:947\u001b[0m, in \u001b[0;36mFunction._call\u001b[0;34m(self, *args, **kwds)\u001b[0m\n\u001b[1;32m    944\u001b[0m   \u001b[39mself\u001b[39m\u001b[39m.\u001b[39m_lock\u001b[39m.\u001b[39mrelease()\n\u001b[1;32m    945\u001b[0m   \u001b[39m# In this case we have created variables on the first call, so we run the\u001b[39;00m\n\u001b[1;32m    946\u001b[0m   \u001b[39m# defunned version which is guaranteed to never create variables.\u001b[39;00m\n\u001b[0;32m--> 947\u001b[0m   \u001b[39mreturn\u001b[39;00m \u001b[39mself\u001b[39;49m\u001b[39m.\u001b[39;49m_stateless_fn(\u001b[39m*\u001b[39;49margs, \u001b[39m*\u001b[39;49m\u001b[39m*\u001b[39;49mkwds)  \u001b[39m# pylint: disable=not-callable\u001b[39;00m\n\u001b[1;32m    948\u001b[0m \u001b[39melif\u001b[39;00m \u001b[39mself\u001b[39m\u001b[39m.\u001b[39m_stateful_fn \u001b[39mis\u001b[39;00m \u001b[39mnot\u001b[39;00m \u001b[39mNone\u001b[39;00m:\n\u001b[1;32m    949\u001b[0m   \u001b[39m# Release the lock early so that multiple threads can perform the call\u001b[39;00m\n\u001b[1;32m    950\u001b[0m   \u001b[39m# in parallel.\u001b[39;00m\n\u001b[1;32m    951\u001b[0m   \u001b[39mself\u001b[39m\u001b[39m.\u001b[39m_lock\u001b[39m.\u001b[39mrelease()\n",
      "File \u001b[0;32m/usr/local/lib/python3.8/dist-packages/tensorflow/python/eager/function.py:2453\u001b[0m, in \u001b[0;36mFunction.__call__\u001b[0;34m(self, *args, **kwargs)\u001b[0m\n\u001b[1;32m   2450\u001b[0m \u001b[39mwith\u001b[39;00m \u001b[39mself\u001b[39m\u001b[39m.\u001b[39m_lock:\n\u001b[1;32m   2451\u001b[0m   (graph_function,\n\u001b[1;32m   2452\u001b[0m    filtered_flat_args) \u001b[39m=\u001b[39m \u001b[39mself\u001b[39m\u001b[39m.\u001b[39m_maybe_define_function(args, kwargs)\n\u001b[0;32m-> 2453\u001b[0m \u001b[39mreturn\u001b[39;00m graph_function\u001b[39m.\u001b[39;49m_call_flat(\n\u001b[1;32m   2454\u001b[0m     filtered_flat_args, captured_inputs\u001b[39m=\u001b[39;49mgraph_function\u001b[39m.\u001b[39;49mcaptured_inputs)\n",
      "File \u001b[0;32m/usr/local/lib/python3.8/dist-packages/tensorflow/python/eager/function.py:1860\u001b[0m, in \u001b[0;36mConcreteFunction._call_flat\u001b[0;34m(self, args, captured_inputs, cancellation_manager)\u001b[0m\n\u001b[1;32m   1856\u001b[0m possible_gradient_type \u001b[39m=\u001b[39m gradients_util\u001b[39m.\u001b[39mPossibleTapeGradientTypes(args)\n\u001b[1;32m   1857\u001b[0m \u001b[39mif\u001b[39;00m (possible_gradient_type \u001b[39m==\u001b[39m gradients_util\u001b[39m.\u001b[39mPOSSIBLE_GRADIENT_TYPES_NONE\n\u001b[1;32m   1858\u001b[0m     \u001b[39mand\u001b[39;00m executing_eagerly):\n\u001b[1;32m   1859\u001b[0m   \u001b[39m# No tape is watching; skip to running the function.\u001b[39;00m\n\u001b[0;32m-> 1860\u001b[0m   \u001b[39mreturn\u001b[39;00m \u001b[39mself\u001b[39m\u001b[39m.\u001b[39m_build_call_outputs(\u001b[39mself\u001b[39;49m\u001b[39m.\u001b[39;49m_inference_function\u001b[39m.\u001b[39;49mcall(\n\u001b[1;32m   1861\u001b[0m       ctx, args, cancellation_manager\u001b[39m=\u001b[39;49mcancellation_manager))\n\u001b[1;32m   1862\u001b[0m forward_backward \u001b[39m=\u001b[39m \u001b[39mself\u001b[39m\u001b[39m.\u001b[39m_select_forward_and_backward_functions(\n\u001b[1;32m   1863\u001b[0m     args,\n\u001b[1;32m   1864\u001b[0m     possible_gradient_type,\n\u001b[1;32m   1865\u001b[0m     executing_eagerly)\n\u001b[1;32m   1866\u001b[0m forward_function, args_with_tangents \u001b[39m=\u001b[39m forward_backward\u001b[39m.\u001b[39mforward()\n",
      "File \u001b[0;32m/usr/local/lib/python3.8/dist-packages/tensorflow/python/eager/function.py:497\u001b[0m, in \u001b[0;36m_EagerDefinedFunction.call\u001b[0;34m(self, ctx, args, cancellation_manager)\u001b[0m\n\u001b[1;32m    495\u001b[0m \u001b[39mwith\u001b[39;00m _InterpolateFunctionError(\u001b[39mself\u001b[39m):\n\u001b[1;32m    496\u001b[0m   \u001b[39mif\u001b[39;00m cancellation_manager \u001b[39mis\u001b[39;00m \u001b[39mNone\u001b[39;00m:\n\u001b[0;32m--> 497\u001b[0m     outputs \u001b[39m=\u001b[39m execute\u001b[39m.\u001b[39;49mexecute(\n\u001b[1;32m    498\u001b[0m         \u001b[39mstr\u001b[39;49m(\u001b[39mself\u001b[39;49m\u001b[39m.\u001b[39;49msignature\u001b[39m.\u001b[39;49mname),\n\u001b[1;32m    499\u001b[0m         num_outputs\u001b[39m=\u001b[39;49m\u001b[39mself\u001b[39;49m\u001b[39m.\u001b[39;49m_num_outputs,\n\u001b[1;32m    500\u001b[0m         inputs\u001b[39m=\u001b[39;49margs,\n\u001b[1;32m    501\u001b[0m         attrs\u001b[39m=\u001b[39;49mattrs,\n\u001b[1;32m    502\u001b[0m         ctx\u001b[39m=\u001b[39;49mctx)\n\u001b[1;32m    503\u001b[0m   \u001b[39melse\u001b[39;00m:\n\u001b[1;32m    504\u001b[0m     outputs \u001b[39m=\u001b[39m execute\u001b[39m.\u001b[39mexecute_with_cancellation(\n\u001b[1;32m    505\u001b[0m         \u001b[39mstr\u001b[39m(\u001b[39mself\u001b[39m\u001b[39m.\u001b[39msignature\u001b[39m.\u001b[39mname),\n\u001b[1;32m    506\u001b[0m         num_outputs\u001b[39m=\u001b[39m\u001b[39mself\u001b[39m\u001b[39m.\u001b[39m_num_outputs,\n\u001b[0;32m   (...)\u001b[0m\n\u001b[1;32m    509\u001b[0m         ctx\u001b[39m=\u001b[39mctx,\n\u001b[1;32m    510\u001b[0m         cancellation_manager\u001b[39m=\u001b[39mcancellation_manager)\n",
      "File \u001b[0;32m/usr/local/lib/python3.8/dist-packages/tensorflow/python/eager/execute.py:54\u001b[0m, in \u001b[0;36mquick_execute\u001b[0;34m(op_name, num_outputs, inputs, attrs, ctx, name)\u001b[0m\n\u001b[1;32m     52\u001b[0m \u001b[39mtry\u001b[39;00m:\n\u001b[1;32m     53\u001b[0m   ctx\u001b[39m.\u001b[39mensure_initialized()\n\u001b[0;32m---> 54\u001b[0m   tensors \u001b[39m=\u001b[39m pywrap_tfe\u001b[39m.\u001b[39;49mTFE_Py_Execute(ctx\u001b[39m.\u001b[39;49m_handle, device_name, op_name,\n\u001b[1;32m     55\u001b[0m                                       inputs, attrs, num_outputs)\n\u001b[1;32m     56\u001b[0m \u001b[39mexcept\u001b[39;00m core\u001b[39m.\u001b[39m_NotOkStatusException \u001b[39mas\u001b[39;00m e:\n\u001b[1;32m     57\u001b[0m   \u001b[39mif\u001b[39;00m name \u001b[39mis\u001b[39;00m \u001b[39mnot\u001b[39;00m \u001b[39mNone\u001b[39;00m:\n",
      "\u001b[0;31mKeyboardInterrupt\u001b[0m: "
     ]
    }
   ],
   "source": [
    "# Run training for certain amount of epochs\n",
    "from matplotlib import image\n",
    "from matplotlib.pyplot import figure\n",
    "\n",
    "for train, val in kf.split(x, y):\n",
    "    x_train, x_val = x[train],x[val]\n",
    "    y_train, y_val = y[train],y[val]\n",
    "\n",
    "    model = ResNet()\n",
    "    model.compile(loss='categorical_crossentropy', optimizer='adam', metrics=['accuracy'])\n",
    "    \n",
    "    History = model.fit(x_train,y_train, \n",
    "        validation_data = (x_val, y_val), \n",
    "        epochs = n_epochs,  verbose=1, class_weight = class_weight, callbacks = [lr,mc])\n",
    "\n",
    "    plt.figure(figsize=(4, 4))\n",
    "    plt.title(\"Learning curve\")\n",
    "    plt.plot(History.history[\"loss\"], label=\"loss\")\n",
    "    plt.plot(History.history[\"val_loss\"], label=\"val_loss\")\n",
    "    plt.plot( np.argmin(History.history[\"val_loss\"]),\n",
    "            np.min(History.history[\"val_loss\"]),\n",
    "            marker=\"x\", color=\"r\", label=\"best model\")\n",
    "\n",
    "    plt.xlabel(\"Epochs\")\n",
    "    plt.ylabel(\"Loss Value\")\n",
    "    plt.legend()\n",
    "    plt.show()\n",
    "\n",
    "    figure\n",
    "\n",
    "    plt.figure(figsize=(4, 4))\n",
    "    plt.title(\"Accuracy\")\n",
    "    plt.plot(History.history[\"accuracy\"], label=\"accuracy\")\n",
    "    plt.plot(History.history[\"val_accuracy\"], label=\"val_accuracy\")\n",
    "    plt.plot( np.argmax(History.history[\"val_accuracy\"]),\n",
    "            np.max(History.history[\"val_accuracy\"]),\n",
    "            marker=\"x\", color=\"r\", label=\"best model\")\n",
    "\n",
    "    plt.xlabel(\"Epochs\")\n",
    "    plt.ylabel(\"Accuracy\")\n",
    "    plt.legend()\n",
    "    plt.show()\n",
    "    \n",
    "    # evaluate the model\n",
    "    scores = model.evaluate(x_val, y_val, verbose=1)\n",
    "    print(\"%s: %.2f%%\" % (model.metrics_names[1], scores[1]*100))\n",
    "    cvscores.append(scores[1] * 100)\n",
    "    \n",
    "    print(\"%.2f%% (+/- %.2f%%)\" % (np.mean(cvscores), np.std(cvscores)))"
   ]
  },
  {
   "cell_type": "code",
   "execution_count": 6,
   "metadata": {},
   "outputs": [
    {
     "data": {
      "text/plain": [
       "[]"
      ]
     },
     "execution_count": 6,
     "metadata": {},
     "output_type": "execute_result"
    }
   ],
   "source": [
    "import tensorflow as tf\n",
    "tf.config.list_physical_devices('GPU') \n",
    "\n",
    "\n"
   ]
  },
  {
   "cell_type": "code",
   "execution_count": null,
   "metadata": {},
   "outputs": [],
   "source": []
  }
 ],
 "metadata": {
  "kernelspec": {
   "display_name": "Python 3",
   "language": "python",
   "name": "python3"
  },
  "orig_nbformat": 4,
  "vscode": {
   "interpreter": {
    "hash": "aee8b7b246df8f9039afb4144a1f6fd8d2ca17a180786b69acc140d282b71a49"
   }
  }
 },
 "nbformat": 4,
 "nbformat_minor": 2
}
