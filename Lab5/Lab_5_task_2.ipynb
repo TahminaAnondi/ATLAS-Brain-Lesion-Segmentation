{
 "cells": [
  {
   "cell_type": "code",
   "execution_count": 1,
   "metadata": {},
   "outputs": [
    {
     "name": "stdout",
     "output_type": "stream",
     "text": [
      "Requirement already satisfied: keras in /usr/local/lib/python3.8/dist-packages (2.9.0)\n",
      "\u001b[33mWARNING: Running pip as the 'root' user can result in broken permissions and conflicting behaviour with the system package manager. It is recommended to use a virtual environment instead: https://pip.pypa.io/warnings/venv\u001b[0m\u001b[33m\n",
      "\u001b[0m"
     ]
    }
   ],
   "source": [
    "!pip install keras\n"
   ]
  },
  {
   "cell_type": "code",
   "execution_count": 2,
   "metadata": {},
   "outputs": [],
   "source": [
    "import tensorflow as tf\n",
    "import pandas as pd\n",
    "from tensorflow import keras\n",
    "from tensorflow.keras.models import Sequential\n",
    "from tensorflow.keras.layers import Dense, Flatten, Activation, Dropout\n",
    "from tensorflow.keras.layers import Conv2D, MaxPooling2D, BatchNormalization, SpatialDropout2D,Conv2DTranspose,Concatenate\n",
    "from tensorflow.keras.optimizers import Adam, RMSprop\n",
    "from tensorflow.keras.preprocessing.image import ImageDataGenerator \n",
    "import matplotlib.pyplot as plt\n",
    "import numpy as np\n",
    "from tensorflow.keras import layers\n",
    "from sklearn.model_selection import train_test_split\n"
   ]
  },
  {
   "cell_type": "code",
   "execution_count": 3,
   "metadata": {},
   "outputs": [],
   "source": [
    "def conv_block(x, n_base, batch_normalization):\n",
    "    \n",
    "    x = Conv2D(filters=n_base, kernel_size=(3,3), \n",
    "                        strides=(1,1),padding='same')(x)\n",
    "    if (batch_normalization):\n",
    "        x = BatchNormalization()(x)\n",
    "    x = Activation('relu')(x)\n",
    "    \n",
    "    x = Conv2D(filters=n_base, kernel_size=(3,3), \n",
    "                        strides=(1,1),padding='same')(x)\n",
    "    if (batch_normalization):\n",
    "        x = BatchNormalization()(x)\n",
    "    x = Activation('relu')(x)\n",
    "    \n",
    "    return x"
   ]
  },
  {
   "cell_type": "code",
   "execution_count": 4,
   "metadata": {},
   "outputs": [],
   "source": [
    "def downsample_block(x, n_base, batch_normalization, dropout):\n",
    "    f = conv_block(x, n_base, batch_normalization)\n",
    "    p = layers.MaxPool2D(pool_size = (2,2))(f)\n",
    "    if(dropout):\n",
    "        p = layers.Dropout(0.2)(p)\n",
    "        \n",
    "    return f, p"
   ]
  },
  {
   "cell_type": "code",
   "execution_count": 5,
   "metadata": {},
   "outputs": [],
   "source": [
    "def upsample_block(x, f, n_base, batch_normalization, dropout):\n",
    "    \n",
    "    x = Conv2DTranspose(filters=n_base, kernel_size=(2,2), \n",
    "                         strides=(2,2),padding='same')(x)\n",
    "    x = Concatenate()([x,f])\n",
    "    if(dropout):\n",
    "        x = layers.Dropout(0.2)(x)\n",
    "    x = conv_block(x, n_base, batch_normalization)\n",
    "        \n",
    "    return x"
   ]
  },
  {
   "cell_type": "code",
   "execution_count": 6,
   "metadata": {},
   "outputs": [],
   "source": [
    "def get_unet_weightmap(img_w, img_h, img_ch, n_base, LR, batch_normalization, dropout):\n",
    "\n",
    "    \n",
    "    \n",
    "    ## Encoder part\n",
    "#     model = Sequential()\n",
    "    image = layers.Input((img_w, img_h, img_ch))\n",
    "    weight = layers.Input((img_w, img_h, img_ch))\n",
    "    inputs= layers.concatenate([image,weight],axis=-1)\n",
    "\n",
    "    # inputs = layers.Input((img_w, img_h, img_ch))\n",
    "    \n",
    "    f1, p1 = downsample_block(inputs, n_base, batch_normalization, dropout)\n",
    "    f2, p2 = downsample_block(p1, n_base*2, batch_normalization, dropout)\n",
    "    f3, p3 = downsample_block(p2, n_base*4, batch_normalization, dropout)\n",
    "    f4, p4 = downsample_block(p3, n_base*8, batch_normalization, dropout)\n",
    "    \n",
    "    \n",
    "    ## Bottleneck\n",
    "    bottleneck = conv_block(p4, n_base*16, batch_normalization)\n",
    "    \n",
    "    ## Decoder part\n",
    "    p5 = upsample_block(bottleneck, f4, n_base*8, batch_normalization, dropout)\n",
    "    p6 = upsample_block(p5, f3, n_base*4, batch_normalization, dropout)\n",
    "    p7 = upsample_block(p6, f2, n_base*2, batch_normalization, dropout)\n",
    "    p8 = upsample_block(p7, f1, n_base, batch_normalization, dropout)\n",
    "\n",
    "    \n",
    "    ## 1 Convo layer\n",
    "    p9 = Conv2D(filters=1, kernel_size=(1,1), \n",
    "                            padding='same')(p8)\n",
    "    outputs = Activation('sigmoid')(p9)\n",
    "    \n",
    "\n",
    "    model = tf.keras.Model(inputs=inputs, outputs=outputs)\n",
    "    model.summary()\n",
    "    \n",
    "    return model\n"
   ]
  },
  {
   "cell_type": "code",
   "execution_count": 7,
   "metadata": {},
   "outputs": [
    {
     "name": "stdout",
     "output_type": "stream",
     "text": [
      "Requirement already satisfied: scikit-image in /usr/local/lib/python3.8/dist-packages (0.19.3)\n",
      "Requirement already satisfied: numpy>=1.17.0 in /usr/local/lib/python3.8/dist-packages (from scikit-image) (1.22.3)\n",
      "Requirement already satisfied: scipy>=1.4.1 in /usr/local/lib/python3.8/dist-packages (from scikit-image) (1.9.1)\n",
      "Requirement already satisfied: pillow!=7.1.0,!=7.1.1,!=8.3.0,>=6.1.0 in /usr/local/lib/python3.8/dist-packages (from scikit-image) (9.1.0)\n",
      "Requirement already satisfied: tifffile>=2019.7.26 in /usr/local/lib/python3.8/dist-packages (from scikit-image) (2022.8.12)\n",
      "Requirement already satisfied: imageio>=2.4.1 in /usr/local/lib/python3.8/dist-packages (from scikit-image) (2.22.0)\n",
      "Requirement already satisfied: packaging>=20.0 in /usr/local/lib/python3.8/dist-packages (from scikit-image) (21.3)\n",
      "Requirement already satisfied: networkx>=2.2 in /usr/local/lib/python3.8/dist-packages (from scikit-image) (2.8.6)\n",
      "Requirement already satisfied: PyWavelets>=1.1.1 in /usr/local/lib/python3.8/dist-packages (from scikit-image) (1.4.1)\n",
      "Requirement already satisfied: pyparsing!=3.0.5,>=2.0.2 in /usr/local/lib/python3.8/dist-packages (from packaging>=20.0->scikit-image) (3.0.9)\n",
      "\u001b[33mWARNING: Running pip as the 'root' user can result in broken permissions and conflicting behaviour with the system package manager. It is recommended to use a virtual environment instead: https://pip.pypa.io/warnings/venv\u001b[0m\u001b[33m\n",
      "\u001b[0m"
     ]
    }
   ],
   "source": [
    "!pip install scikit-image"
   ]
  },
  {
   "cell_type": "code",
   "execution_count": 8,
   "metadata": {},
   "outputs": [],
   "source": [
    "## Task1a) Lung segmentation in chest X-ray images:\n",
    "import os\n",
    "from random import shuffle\n",
    "from skimage.io import imread\n",
    "from skimage.transform import resize\n",
    "\n",
    "\n",
    "image_path = '/DL_course_data/Lab3/MRI/Image' \n",
    "mask_path = '/DL_course_data/Lab3/MRI/Mask'\n",
    "\n"
   ]
  },
  {
   "cell_type": "code",
   "execution_count": 10,
   "metadata": {},
   "outputs": [
    {
     "data": {
      "text/plain": [
       "'Brats17_TCIA_117_1_t1ce_61_Tumor.png'"
      ]
     },
     "execution_count": 10,
     "metadata": {},
     "output_type": "execute_result"
    }
   ],
   "source": [
    "name = 'Brats17_TCIA_117_1_t1ce_61.png'\n",
    "mask = str.replace(name,'.png','_Tumor.png')\n",
    "mask"
   ]
  },
  {
   "cell_type": "code",
   "execution_count": 9,
   "metadata": {},
   "outputs": [],
   "source": [
    "def load_data(image_path,mask_path):\n",
    "    \n",
    "    image_list = os.listdir(image_path)\n",
    "    mask_list = os.listdir(mask_path)\n",
    "    \n",
    "    images = []\n",
    "    masks = []\n",
    "\n",
    "    for image in image_list:\n",
    "        img = imread(os.path.join(image_path, image), as_gray=True)  # \"as_grey\"\n",
    "        img = resize(img, (240, 240), anti_aliasing=True).astype('float32')\n",
    "        images.append(img)\n",
    "\n",
    "    for image in image_list:\n",
    "        mask = str.replace(image,'.png','_Tumor.png')\n",
    "        mask_img = imread(os.path.join(mask_path, mask), as_gray=True)\n",
    "        mask_img = resize(mask_img, (240, 240), anti_aliasing=True).astype('float32')\n",
    "        masks.append(mask_img)\n",
    "        \n",
    "    ## Load data in traditional way\n",
    "    # img_train, img_val, mask_train, mask_val = train_test_split(images, masks, shuffle = True,\n",
    "    #                                                   test_size = 0.2)\n",
    "\n",
    "    images = np.expand_dims(images, axis = -1)\n",
    "    images = np.array(images)\n",
    "\n",
    "    masks = np.expand_dims(masks, axis = -1)\n",
    "    masks = np.array(masks)\n",
    "    \n",
    "    return images, masks\n",
    "    "
   ]
  },
  {
   "cell_type": "code",
   "execution_count": 10,
   "metadata": {},
   "outputs": [],
   "source": [
    "from tensorflow.keras import backend as K\n",
    "def dice_coef(y_true, y_pred):\n",
    "    y_true_f = K.flatten(y_true)\n",
    "    y_pred_f = K.flatten(y_pred)\n",
    "    intersection = K.sum(y_true_f * y_pred_f)\n",
    "    return (2. * intersection + 0.0001) / (K.sum(y_true_f) + K.sum(y_pred_f) + 0.0001)\n",
    "\n",
    "def dice_coef_loss(y_true, y_pred):\n",
    "    return 1 - dice_coef(y_true, y_pred)"
   ]
  },
  {
   "cell_type": "code",
   "execution_count": 11,
   "metadata": {},
   "outputs": [],
   "source": [
    "n_base =8\n",
    "LR = 1e-4\n",
    "batch_normalization = True\n",
    "dropout = True\n",
    "epochs = 5\n",
    "Metric= 'Dice Coefficient'\n",
    "batch_size = 8\n",
    "\n",
    "img_w, img_h = 240,240\n",
    "img_ch = 1"
   ]
  },
  {
   "cell_type": "code",
   "execution_count": 12,
   "metadata": {},
   "outputs": [],
   "source": [
    "images, masks = load_data(image_path,mask_path)"
   ]
  },
  {
   "cell_type": "code",
   "execution_count": 13,
   "metadata": {},
   "outputs": [
    {
     "name": "stderr",
     "output_type": "stream",
     "text": [
      "<ipython-input-13-e2c642e8f4a1>:1: DeprecationWarning: Please use `binary_dilation` from the `scipy.ndimage` namespace, the `scipy.ndimage.morphology` namespace is deprecated.\n",
      "  from scipy.ndimage.morphology import binary_dilation, binary_erosion\n",
      "<ipython-input-13-e2c642e8f4a1>:1: DeprecationWarning: Please use `binary_erosion` from the `scipy.ndimage` namespace, the `scipy.ndimage.morphology` namespace is deprecated.\n",
      "  from scipy.ndimage.morphology import binary_dilation, binary_erosion\n"
     ]
    }
   ],
   "source": [
    "from scipy.ndimage.morphology import binary_dilation, binary_erosion\n",
    "\n",
    "mask_dilated = np.zeros(masks.shape)\n",
    "mask_eroded = np.zeros(masks.shape)\n",
    "\n",
    "for i in range(len(masks)):\n",
    "    radius = 2\n",
    "    structure = np.ones((round(radius*2+1),round(radius*2+1)))\n",
    "    mask_dilated[i,:,:,0] = binary_dilation(masks[i,:,:,0], structure)\n",
    "    mask_eroded[i,:,:,0] = binary_erosion(masks[i,:,:,0],structure)\n",
    "weight_boundary = mask_dilated.astype(int) - mask_eroded.astype(int)\n",
    "\n"
   ]
  },
  {
   "cell_type": "code",
   "execution_count": 14,
   "metadata": {},
   "outputs": [
    {
     "data": {
      "text/plain": [
       "(9403, 240, 240, 1)"
      ]
     },
     "execution_count": 14,
     "metadata": {},
     "output_type": "execute_result"
    }
   ],
   "source": [
    "weight_boundary.shape"
   ]
  },
  {
   "cell_type": "code",
   "execution_count": 67,
   "metadata": {},
   "outputs": [
    {
     "data": {
      "image/png": "[encoded data removed]",
      "text/plain": [
       "<Figure size 640x480 with 1 Axes>"
      ]
     },
     "metadata": {},
     "output_type": "display_data"
    }
   ],
   "source": [
    "plt.imshow(weight_boundary[2])\n",
    "plt.show()"
   ]
  },
  {
   "cell_type": "code",
   "execution_count": 15,
   "metadata": {},
   "outputs": [],
   "source": [
    "def weighted_loss(weight_map, weight_strength): \n",
    "    def weighted_dice_loss(y_true, y_pred):\n",
    "        y_true_f = K.flatten(y_true) \n",
    "        y_pred_f = K.flatten(y_pred)\n",
    "        weight_f = K.flatten(weight_map) \n",
    "        weight_f = weight_f * weight_strength \n",
    "        weight_f = 1/(weight_f + 1)\n",
    "        weighted_intersection = K.sum(weight_f * (y_true_f * y_pred_f))\n",
    "        return -(2. * weighted_intersection + K.epsilon()) / (K.sum(y_true_f) + K.sum(y_pred_f) + K.epsilon())\n",
    "    return weighted_dice_loss"
   ]
  },
  {
   "cell_type": "code",
   "execution_count": 18,
   "metadata": {},
   "outputs": [
    {
     "data": {
      "text/plain": [
       "(9403, 240, 240, 1)"
      ]
     },
     "execution_count": 18,
     "metadata": {},
     "output_type": "execute_result"
    }
   ],
   "source": [
    "images.shape"
   ]
  },
  {
   "cell_type": "code",
   "execution_count": 16,
   "metadata": {},
   "outputs": [],
   "source": [
    "from numpy import concatenate\n",
    "\n",
    "\n",
    "def generator_with_weights(x_train, y_train, weight_train, batch_size):\n",
    "    n_train_sample = len(x_train)\n",
    "    while True:\n",
    "               \n",
    "        for ind in (range(0, n_train_sample, batch_size)):\n",
    "            \n",
    "            batch_img = x_train[ind:ind+batch_size]\n",
    "            batch_weightmap = weight_train[ind:ind+batch_size]\n",
    "            batch_label = y_train[ind:ind+batch_size]\n",
    "            \n",
    "            # Sanity check assures batch size always satisfied\n",
    "            # by repeating the last 2-3 images at last batch.\n",
    "            length = len(batch_img)\n",
    "            if length == batch_size:\n",
    "                pass\n",
    "            else:\n",
    "                for tmp in range(batch_size - length):\n",
    "                    batch_img = np.append(batch_img, np.expand_dims(batch_img[-1],axis=0), axis = 0)\n",
    "                    batch_weightmap = np.append(batch_weightmap, np.expand_dims(batch_weightmap[-1],axis=0), axis = 0)\n",
    "                    batch_label = np.append(batch_label, np.expand_dims(batch_label[-1], axis=0), axis = 0)\n",
    "        \n",
    "            backgound_value = x_train.min()\n",
    "            data_gen_args = dict(rotation_range=10.,\n",
    "                                     width_shift_range=0.1,\n",
    "                                     height_shift_range=0.1,\n",
    "                                     cval = backgound_value,\n",
    "                                     zoom_range=0.2,\n",
    "                                     horizontal_flip = True)\n",
    "            \n",
    "            image_datagen = ImageDataGenerator(**data_gen_args)\n",
    "            weights_datagen = ImageDataGenerator(**data_gen_args)\n",
    "            mask_datagen = ImageDataGenerator(**data_gen_args)\n",
    "            \n",
    "            image_generator = image_datagen.flow(batch_img, shuffle=False,\n",
    "                                                 batch_size=batch_size,\n",
    "                                                 seed=1)\n",
    "\n",
    "            weights_generator = image_datagen.flow(batch_weightmap, shuffle=False,\n",
    "                                                 batch_size=batch_size,\n",
    "                                                 seed=1)\n",
    "            \n",
    "            mask_generator = mask_datagen.flow(batch_label, shuffle=False,\n",
    "                                               batch_size=batch_size,\n",
    "                                               seed=1)\n",
    "            \n",
    "            image = image_generator.next()\n",
    "            weight = weights_generator.next()\n",
    "            label = mask_generator.next()\n",
    "            input = concatenate([image,weight],axis=-1)\n",
    "            \n",
    "            \n",
    "            yield input, label\n",
    "            # yield (image, label)"
   ]
  },
  {
   "cell_type": "code",
   "execution_count": 17,
   "metadata": {},
   "outputs": [],
   "source": [
    "from sklearn.model_selection import KFold\n",
    "\n",
    "kf = KFold(n_splits=4)\n",
    "cvscores = []\n"
   ]
  },
  {
   "cell_type": "code",
   "execution_count": 20,
   "metadata": {},
   "outputs": [],
   "source": [
    "for train, val in kf.split(images, masks, weight_boundary):\n",
    "    image_train, image_val = images[train],images[val]\n",
    "    weight_train, weight_val = weight_boundary[train], weight_boundary[val]\n",
    "    mask_train, mask_val = masks[train], masks[val]"
   ]
  },
  {
   "cell_type": "code",
   "execution_count": null,
   "metadata": {},
   "outputs": [],
   "source": []
  },
  {
   "cell_type": "code",
   "execution_count": 31,
   "metadata": {},
   "outputs": [
    {
     "name": "stdout",
     "output_type": "stream",
     "text": [
      "Model: \"model_3\"\n",
      "__________________________________________________________________________________________________\n",
      " Layer (type)                   Output Shape         Param #     Connected to                     \n",
      "==================================================================================================\n",
      " input_12 (InputLayer)          [(None, 240, 240, 2  0           []                               \n",
      "                                )]                                                                \n",
      "                                                                                                  \n",
      " conv2d_57 (Conv2D)             (None, 240, 240, 8)  152         ['input_12[0][0]']               \n",
      "                                                                                                  \n",
      " batch_normalization_54 (BatchN  (None, 240, 240, 8)  32         ['conv2d_57[1][0]']              \n",
      " ormalization)                                                                                    \n",
      "                                                                                                  \n",
      " activation_57 (Activation)     (None, 240, 240, 8)  0           ['batch_normalization_54[1][0]'] \n",
      "                                                                                                  \n",
      " conv2d_58 (Conv2D)             (None, 240, 240, 8)  584         ['activation_57[1][0]']          \n",
      "                                                                                                  \n",
      " batch_normalization_55 (BatchN  (None, 240, 240, 8)  32         ['conv2d_58[1][0]']              \n",
      " ormalization)                                                                                    \n",
      "                                                                                                  \n",
      " activation_58 (Activation)     (None, 240, 240, 8)  0           ['batch_normalization_55[1][0]'] \n",
      "                                                                                                  \n",
      " max_pooling2d_12 (MaxPooling2D  (None, 120, 120, 8)  0          ['activation_58[1][0]']          \n",
      " )                                                                                                \n",
      "                                                                                                  \n",
      " dropout_24 (Dropout)           (None, 120, 120, 8)  0           ['max_pooling2d_12[1][0]']       \n",
      "                                                                                                  \n",
      " conv2d_59 (Conv2D)             (None, 120, 120, 16  1168        ['dropout_24[1][0]']             \n",
      "                                )                                                                 \n",
      "                                                                                                  \n",
      " batch_normalization_56 (BatchN  (None, 120, 120, 16  64         ['conv2d_59[1][0]']              \n",
      " ormalization)                  )                                                                 \n",
      "                                                                                                  \n",
      " activation_59 (Activation)     (None, 120, 120, 16  0           ['batch_normalization_56[1][0]'] \n",
      "                                )                                                                 \n",
      "                                                                                                  \n",
      " conv2d_60 (Conv2D)             (None, 120, 120, 16  2320        ['activation_59[1][0]']          \n",
      "                                )                                                                 \n",
      "                                                                                                  \n",
      " batch_normalization_57 (BatchN  (None, 120, 120, 16  64         ['conv2d_60[1][0]']              \n",
      " ormalization)                  )                                                                 \n",
      "                                                                                                  \n",
      " activation_60 (Activation)     (None, 120, 120, 16  0           ['batch_normalization_57[1][0]'] \n",
      "                                )                                                                 \n",
      "                                                                                                  \n",
      " max_pooling2d_13 (MaxPooling2D  (None, 60, 60, 16)  0           ['activation_60[1][0]']          \n",
      " )                                                                                                \n",
      "                                                                                                  \n",
      " dropout_25 (Dropout)           (None, 60, 60, 16)   0           ['max_pooling2d_13[1][0]']       \n",
      "                                                                                                  \n",
      " conv2d_61 (Conv2D)             (None, 60, 60, 32)   4640        ['dropout_25[1][0]']             \n",
      "                                                                                                  \n",
      " batch_normalization_58 (BatchN  (None, 60, 60, 32)  128         ['conv2d_61[1][0]']              \n",
      " ormalization)                                                                                    \n",
      "                                                                                                  \n",
      " activation_61 (Activation)     (None, 60, 60, 32)   0           ['batch_normalization_58[1][0]'] \n",
      "                                                                                                  \n",
      " conv2d_62 (Conv2D)             (None, 60, 60, 32)   9248        ['activation_61[1][0]']          \n",
      "                                                                                                  \n",
      " batch_normalization_59 (BatchN  (None, 60, 60, 32)  128         ['conv2d_62[1][0]']              \n",
      " ormalization)                                                                                    \n",
      "                                                                                                  \n",
      " activation_62 (Activation)     (None, 60, 60, 32)   0           ['batch_normalization_59[1][0]'] \n",
      "                                                                                                  \n",
      " max_pooling2d_14 (MaxPooling2D  (None, 30, 30, 32)  0           ['activation_62[1][0]']          \n",
      " )                                                                                                \n",
      "                                                                                                  \n",
      " dropout_26 (Dropout)           (None, 30, 30, 32)   0           ['max_pooling2d_14[1][0]']       \n",
      "                                                                                                  \n",
      " conv2d_63 (Conv2D)             (None, 30, 30, 64)   18496       ['dropout_26[1][0]']             \n",
      "                                                                                                  \n",
      " batch_normalization_60 (BatchN  (None, 30, 30, 64)  256         ['conv2d_63[1][0]']              \n",
      " ormalization)                                                                                    \n",
      "                                                                                                  \n",
      " activation_63 (Activation)     (None, 30, 30, 64)   0           ['batch_normalization_60[1][0]'] \n",
      "                                                                                                  \n",
      " conv2d_64 (Conv2D)             (None, 30, 30, 64)   36928       ['activation_63[1][0]']          \n",
      "                                                                                                  \n",
      " batch_normalization_61 (BatchN  (None, 30, 30, 64)  256         ['conv2d_64[1][0]']              \n",
      " ormalization)                                                                                    \n",
      "                                                                                                  \n",
      " activation_64 (Activation)     (None, 30, 30, 64)   0           ['batch_normalization_61[1][0]'] \n",
      "                                                                                                  \n",
      " max_pooling2d_15 (MaxPooling2D  (None, 15, 15, 64)  0           ['activation_64[1][0]']          \n",
      " )                                                                                                \n",
      "                                                                                                  \n",
      " dropout_27 (Dropout)           (None, 15, 15, 64)   0           ['max_pooling2d_15[1][0]']       \n",
      "                                                                                                  \n",
      " conv2d_65 (Conv2D)             (None, 15, 15, 128)  73856       ['dropout_27[1][0]']             \n",
      "                                                                                                  \n",
      " batch_normalization_62 (BatchN  (None, 15, 15, 128)  512        ['conv2d_65[1][0]']              \n",
      " ormalization)                                                                                    \n",
      "                                                                                                  \n",
      " activation_65 (Activation)     (None, 15, 15, 128)  0           ['batch_normalization_62[1][0]'] \n",
      "                                                                                                  \n",
      " conv2d_66 (Conv2D)             (None, 15, 15, 128)  147584      ['activation_65[1][0]']          \n",
      "                                                                                                  \n",
      " batch_normalization_63 (BatchN  (None, 15, 15, 128)  512        ['conv2d_66[1][0]']              \n",
      " ormalization)                                                                                    \n",
      "                                                                                                  \n",
      " activation_66 (Activation)     (None, 15, 15, 128)  0           ['batch_normalization_63[1][0]'] \n",
      "                                                                                                  \n",
      " conv2d_transpose_12 (Conv2DTra  (None, 30, 30, 64)  32832       ['activation_66[1][0]']          \n",
      " nspose)                                                                                          \n",
      "                                                                                                  \n",
      " concatenate_16 (Concatenate)   (None, 30, 30, 128)  0           ['conv2d_transpose_12[1][0]',    \n",
      "                                                                  'activation_64[1][0]']          \n",
      "                                                                                                  \n",
      " dropout_28 (Dropout)           (None, 30, 30, 128)  0           ['concatenate_16[1][0]']         \n",
      "                                                                                                  \n",
      " conv2d_67 (Conv2D)             (None, 30, 30, 64)   73792       ['dropout_28[1][0]']             \n",
      "                                                                                                  \n",
      " batch_normalization_64 (BatchN  (None, 30, 30, 64)  256         ['conv2d_67[1][0]']              \n",
      " ormalization)                                                                                    \n",
      "                                                                                                  \n",
      " activation_67 (Activation)     (None, 30, 30, 64)   0           ['batch_normalization_64[1][0]'] \n",
      "                                                                                                  \n",
      " conv2d_68 (Conv2D)             (None, 30, 30, 64)   36928       ['activation_67[1][0]']          \n",
      "                                                                                                  \n",
      " batch_normalization_65 (BatchN  (None, 30, 30, 64)  256         ['conv2d_68[1][0]']              \n",
      " ormalization)                                                                                    \n",
      "                                                                                                  \n",
      " activation_68 (Activation)     (None, 30, 30, 64)   0           ['batch_normalization_65[1][0]'] \n",
      "                                                                                                  \n",
      " conv2d_transpose_13 (Conv2DTra  (None, 60, 60, 32)  8224        ['activation_68[1][0]']          \n",
      " nspose)                                                                                          \n",
      "                                                                                                  \n",
      " concatenate_17 (Concatenate)   (None, 60, 60, 64)   0           ['conv2d_transpose_13[1][0]',    \n",
      "                                                                  'activation_62[1][0]']          \n",
      "                                                                                                  \n",
      " dropout_29 (Dropout)           (None, 60, 60, 64)   0           ['concatenate_17[1][0]']         \n",
      "                                                                                                  \n",
      " conv2d_69 (Conv2D)             (None, 60, 60, 32)   18464       ['dropout_29[1][0]']             \n",
      "                                                                                                  \n",
      " batch_normalization_66 (BatchN  (None, 60, 60, 32)  128         ['conv2d_69[1][0]']              \n",
      " ormalization)                                                                                    \n",
      "                                                                                                  \n",
      " activation_69 (Activation)     (None, 60, 60, 32)   0           ['batch_normalization_66[1][0]'] \n",
      "                                                                                                  \n",
      " conv2d_70 (Conv2D)             (None, 60, 60, 32)   9248        ['activation_69[1][0]']          \n",
      "                                                                                                  \n",
      " batch_normalization_67 (BatchN  (None, 60, 60, 32)  128         ['conv2d_70[1][0]']              \n",
      " ormalization)                                                                                    \n",
      "                                                                                                  \n",
      " activation_70 (Activation)     (None, 60, 60, 32)   0           ['batch_normalization_67[1][0]'] \n",
      "                                                                                                  \n",
      " conv2d_transpose_14 (Conv2DTra  (None, 120, 120, 16  2064       ['activation_70[1][0]']          \n",
      " nspose)                        )                                                                 \n",
      "                                                                                                  \n",
      " concatenate_18 (Concatenate)   (None, 120, 120, 32  0           ['conv2d_transpose_14[1][0]',    \n",
      "                                )                                 'activation_60[1][0]']          \n",
      "                                                                                                  \n",
      " dropout_30 (Dropout)           (None, 120, 120, 32  0           ['concatenate_18[1][0]']         \n",
      "                                )                                                                 \n",
      "                                                                                                  \n",
      " conv2d_71 (Conv2D)             (None, 120, 120, 16  4624        ['dropout_30[1][0]']             \n",
      "                                )                                                                 \n",
      "                                                                                                  \n",
      " batch_normalization_68 (BatchN  (None, 120, 120, 16  64         ['conv2d_71[1][0]']              \n",
      " ormalization)                  )                                                                 \n",
      "                                                                                                  \n",
      " activation_71 (Activation)     (None, 120, 120, 16  0           ['batch_normalization_68[1][0]'] \n",
      "                                )                                                                 \n",
      "                                                                                                  \n",
      " conv2d_72 (Conv2D)             (None, 120, 120, 16  2320        ['activation_71[1][0]']          \n",
      "                                )                                                                 \n",
      "                                                                                                  \n",
      " batch_normalization_69 (BatchN  (None, 120, 120, 16  64         ['conv2d_72[1][0]']              \n",
      " ormalization)                  )                                                                 \n",
      "                                                                                                  \n",
      " activation_72 (Activation)     (None, 120, 120, 16  0           ['batch_normalization_69[1][0]'] \n",
      "                                )                                                                 \n",
      "                                                                                                  \n",
      " conv2d_transpose_15 (Conv2DTra  (None, 240, 240, 8)  520        ['activation_72[1][0]']          \n",
      " nspose)                                                                                          \n",
      "                                                                                                  \n",
      " concatenate_19 (Concatenate)   (None, 240, 240, 16  0           ['conv2d_transpose_15[1][0]',    \n",
      "                                )                                 'activation_58[1][0]']          \n",
      "                                                                                                  \n",
      " dropout_31 (Dropout)           (None, 240, 240, 16  0           ['concatenate_19[1][0]']         \n",
      "                                )                                                                 \n",
      "                                                                                                  \n",
      " conv2d_73 (Conv2D)             (None, 240, 240, 8)  1160        ['dropout_31[1][0]']             \n",
      "                                                                                                  \n",
      " batch_normalization_70 (BatchN  (None, 240, 240, 8)  32         ['conv2d_73[1][0]']              \n",
      " ormalization)                                                                                    \n",
      "                                                                                                  \n",
      " activation_73 (Activation)     (None, 240, 240, 8)  0           ['batch_normalization_70[1][0]'] \n",
      "                                                                                                  \n",
      " conv2d_74 (Conv2D)             (None, 240, 240, 8)  584         ['activation_73[1][0]']          \n",
      "                                                                                                  \n",
      " batch_normalization_71 (BatchN  (None, 240, 240, 8)  32         ['conv2d_74[1][0]']              \n",
      " ormalization)                                                                                    \n",
      "                                                                                                  \n",
      " activation_74 (Activation)     (None, 240, 240, 8)  0           ['batch_normalization_71[1][0]'] \n",
      "                                                                                                  \n",
      " conv2d_75 (Conv2D)             (None, 240, 240, 1)  9           ['activation_74[1][0]']          \n",
      "                                                                                                  \n",
      " activation_75 (Activation)     (None, 240, 240, 1)  0           ['conv2d_75[1][0]']              \n",
      "                                                                                                  \n",
      "==================================================================================================\n",
      "Total params: 488,689\n",
      "Trainable params: 487,217\n",
      "Non-trainable params: 1,472\n",
      "__________________________________________________________________________________________________\n",
      "Epoch 1/5\n",
      "   5168/Unknown - 943s 181ms/step - loss: 0.8805 - dice_coef: 0.1195 - precision_1: 0.4035 - recall_1: 0.9955"
     ]
    },
    {
     "ename": "KeyboardInterrupt",
     "evalue": "",
     "output_type": "error",
     "traceback": [
      "\u001b[0;31m---------------------------------------------------------------------------\u001b[0m",
      "\u001b[0;31mKeyboardInterrupt\u001b[0m                         Traceback (most recent call last)",
      "\u001b[1;32m/Users/xinyi/Documents/GitHub/deep_learning_G5/Lab5/Lab_5_task_2.ipynb Cell 25\u001b[0m in \u001b[0;36m<cell line: 13>\u001b[0;34m()\u001b[0m\n\u001b[1;32m      <a href='vscode-notebook-cell:/Users/xinyi/Documents/GitHub/deep_learning_G5/Lab5/Lab_5_task_2.ipynb#X35sZmlsZQ%3D%3D?line=7'>8</a>\u001b[0m \u001b[39m# Compile the model\u001b[39;00m\n\u001b[1;32m      <a href='vscode-notebook-cell:/Users/xinyi/Documents/GitHub/deep_learning_G5/Lab5/Lab_5_task_2.ipynb#X35sZmlsZQ%3D%3D?line=8'>9</a>\u001b[0m model\u001b[39m.\u001b[39mcompile(loss \u001b[39m=\u001b[39m [dice_coef_loss],          \u001b[39m# Model Compiling   \u001b[39;00m\n\u001b[1;32m     <a href='vscode-notebook-cell:/Users/xinyi/Documents/GitHub/deep_learning_G5/Lab5/Lab_5_task_2.ipynb#X35sZmlsZQ%3D%3D?line=9'>10</a>\u001b[0m             optimizer \u001b[39m=\u001b[39m Adam(lr \u001b[39m=\u001b[39m LR),\n\u001b[1;32m     <a href='vscode-notebook-cell:/Users/xinyi/Documents/GitHub/deep_learning_G5/Lab5/Lab_5_task_2.ipynb#X35sZmlsZQ%3D%3D?line=10'>11</a>\u001b[0m             metrics \u001b[39m=\u001b[39m [dice_coef, tf\u001b[39m.\u001b[39mkeras\u001b[39m.\u001b[39mmetrics\u001b[39m.\u001b[39mPrecision(), tf\u001b[39m.\u001b[39mkeras\u001b[39m.\u001b[39mmetrics\u001b[39m.\u001b[39mRecall()])\n\u001b[0;32m---> <a href='vscode-notebook-cell:/Users/xinyi/Documents/GitHub/deep_learning_G5/Lab5/Lab_5_task_2.ipynb#X35sZmlsZQ%3D%3D?line=12'>13</a>\u001b[0m model_history \u001b[39m=\u001b[39m model\u001b[39m.\u001b[39;49mfit(train_generator, \n\u001b[1;32m     <a href='vscode-notebook-cell:/Users/xinyi/Documents/GitHub/deep_learning_G5/Lab5/Lab_5_task_2.ipynb#X35sZmlsZQ%3D%3D?line=13'>14</a>\u001b[0m                 validation_data \u001b[39m=\u001b[39;49m (val_generator), batch_size \u001b[39m=\u001b[39;49m batch_size,\n\u001b[1;32m     <a href='vscode-notebook-cell:/Users/xinyi/Documents/GitHub/deep_learning_G5/Lab5/Lab_5_task_2.ipynb#X35sZmlsZQ%3D%3D?line=14'>15</a>\u001b[0m                 epochs \u001b[39m=\u001b[39;49m epochs,  verbose\u001b[39m=\u001b[39;49m\u001b[39m1\u001b[39;49m)\n",
      "File \u001b[0;32m/usr/local/lib/python3.8/dist-packages/keras/utils/traceback_utils.py:64\u001b[0m, in \u001b[0;36mfilter_traceback.<locals>.error_handler\u001b[0;34m(*args, **kwargs)\u001b[0m\n\u001b[1;32m     62\u001b[0m filtered_tb \u001b[39m=\u001b[39m \u001b[39mNone\u001b[39;00m\n\u001b[1;32m     63\u001b[0m \u001b[39mtry\u001b[39;00m:\n\u001b[0;32m---> 64\u001b[0m   \u001b[39mreturn\u001b[39;00m fn(\u001b[39m*\u001b[39;49margs, \u001b[39m*\u001b[39;49m\u001b[39m*\u001b[39;49mkwargs)\n\u001b[1;32m     65\u001b[0m \u001b[39mexcept\u001b[39;00m \u001b[39mException\u001b[39;00m \u001b[39mas\u001b[39;00m e:  \u001b[39m# pylint: disable=broad-except\u001b[39;00m\n\u001b[1;32m     66\u001b[0m   filtered_tb \u001b[39m=\u001b[39m _process_traceback_frames(e\u001b[39m.\u001b[39m__traceback__)\n",
      "File \u001b[0;32m/usr/local/lib/python3.8/dist-packages/keras/engine/training.py:1409\u001b[0m, in \u001b[0;36mModel.fit\u001b[0;34m(self, x, y, batch_size, epochs, verbose, callbacks, validation_split, validation_data, shuffle, class_weight, sample_weight, initial_epoch, steps_per_epoch, validation_steps, validation_batch_size, validation_freq, max_queue_size, workers, use_multiprocessing)\u001b[0m\n\u001b[1;32m   1402\u001b[0m \u001b[39mwith\u001b[39;00m tf\u001b[39m.\u001b[39mprofiler\u001b[39m.\u001b[39mexperimental\u001b[39m.\u001b[39mTrace(\n\u001b[1;32m   1403\u001b[0m     \u001b[39m'\u001b[39m\u001b[39mtrain\u001b[39m\u001b[39m'\u001b[39m,\n\u001b[1;32m   1404\u001b[0m     epoch_num\u001b[39m=\u001b[39mepoch,\n\u001b[1;32m   1405\u001b[0m     step_num\u001b[39m=\u001b[39mstep,\n\u001b[1;32m   1406\u001b[0m     batch_size\u001b[39m=\u001b[39mbatch_size,\n\u001b[1;32m   1407\u001b[0m     _r\u001b[39m=\u001b[39m\u001b[39m1\u001b[39m):\n\u001b[1;32m   1408\u001b[0m   callbacks\u001b[39m.\u001b[39mon_train_batch_begin(step)\n\u001b[0;32m-> 1409\u001b[0m   tmp_logs \u001b[39m=\u001b[39m \u001b[39mself\u001b[39;49m\u001b[39m.\u001b[39;49mtrain_function(iterator)\n\u001b[1;32m   1410\u001b[0m   \u001b[39mif\u001b[39;00m data_handler\u001b[39m.\u001b[39mshould_sync:\n\u001b[1;32m   1411\u001b[0m     context\u001b[39m.\u001b[39masync_wait()\n",
      "File \u001b[0;32m/usr/local/lib/python3.8/dist-packages/tensorflow/python/util/traceback_utils.py:150\u001b[0m, in \u001b[0;36mfilter_traceback.<locals>.error_handler\u001b[0;34m(*args, **kwargs)\u001b[0m\n\u001b[1;32m    148\u001b[0m filtered_tb \u001b[39m=\u001b[39m \u001b[39mNone\u001b[39;00m\n\u001b[1;32m    149\u001b[0m \u001b[39mtry\u001b[39;00m:\n\u001b[0;32m--> 150\u001b[0m   \u001b[39mreturn\u001b[39;00m fn(\u001b[39m*\u001b[39;49margs, \u001b[39m*\u001b[39;49m\u001b[39m*\u001b[39;49mkwargs)\n\u001b[1;32m    151\u001b[0m \u001b[39mexcept\u001b[39;00m \u001b[39mException\u001b[39;00m \u001b[39mas\u001b[39;00m e:\n\u001b[1;32m    152\u001b[0m   filtered_tb \u001b[39m=\u001b[39m _process_traceback_frames(e\u001b[39m.\u001b[39m__traceback__)\n",
      "File \u001b[0;32m/usr/local/lib/python3.8/dist-packages/tensorflow/python/eager/def_function.py:915\u001b[0m, in \u001b[0;36mFunction.__call__\u001b[0;34m(self, *args, **kwds)\u001b[0m\n\u001b[1;32m    912\u001b[0m compiler \u001b[39m=\u001b[39m \u001b[39m\"\u001b[39m\u001b[39mxla\u001b[39m\u001b[39m\"\u001b[39m \u001b[39mif\u001b[39;00m \u001b[39mself\u001b[39m\u001b[39m.\u001b[39m_jit_compile \u001b[39melse\u001b[39;00m \u001b[39m\"\u001b[39m\u001b[39mnonXla\u001b[39m\u001b[39m\"\u001b[39m\n\u001b[1;32m    914\u001b[0m \u001b[39mwith\u001b[39;00m OptionalXlaContext(\u001b[39mself\u001b[39m\u001b[39m.\u001b[39m_jit_compile):\n\u001b[0;32m--> 915\u001b[0m   result \u001b[39m=\u001b[39m \u001b[39mself\u001b[39;49m\u001b[39m.\u001b[39;49m_call(\u001b[39m*\u001b[39;49margs, \u001b[39m*\u001b[39;49m\u001b[39m*\u001b[39;49mkwds)\n\u001b[1;32m    917\u001b[0m new_tracing_count \u001b[39m=\u001b[39m \u001b[39mself\u001b[39m\u001b[39m.\u001b[39mexperimental_get_tracing_count()\n\u001b[1;32m    918\u001b[0m without_tracing \u001b[39m=\u001b[39m (tracing_count \u001b[39m==\u001b[39m new_tracing_count)\n",
      "File \u001b[0;32m/usr/local/lib/python3.8/dist-packages/tensorflow/python/eager/def_function.py:947\u001b[0m, in \u001b[0;36mFunction._call\u001b[0;34m(self, *args, **kwds)\u001b[0m\n\u001b[1;32m    944\u001b[0m   \u001b[39mself\u001b[39m\u001b[39m.\u001b[39m_lock\u001b[39m.\u001b[39mrelease()\n\u001b[1;32m    945\u001b[0m   \u001b[39m# In this case we have created variables on the first call, so we run the\u001b[39;00m\n\u001b[1;32m    946\u001b[0m   \u001b[39m# defunned version which is guaranteed to never create variables.\u001b[39;00m\n\u001b[0;32m--> 947\u001b[0m   \u001b[39mreturn\u001b[39;00m \u001b[39mself\u001b[39;49m\u001b[39m.\u001b[39;49m_stateless_fn(\u001b[39m*\u001b[39;49margs, \u001b[39m*\u001b[39;49m\u001b[39m*\u001b[39;49mkwds)  \u001b[39m# pylint: disable=not-callable\u001b[39;00m\n\u001b[1;32m    948\u001b[0m \u001b[39melif\u001b[39;00m \u001b[39mself\u001b[39m\u001b[39m.\u001b[39m_stateful_fn \u001b[39mis\u001b[39;00m \u001b[39mnot\u001b[39;00m \u001b[39mNone\u001b[39;00m:\n\u001b[1;32m    949\u001b[0m   \u001b[39m# Release the lock early so that multiple threads can perform the call\u001b[39;00m\n\u001b[1;32m    950\u001b[0m   \u001b[39m# in parallel.\u001b[39;00m\n\u001b[1;32m    951\u001b[0m   \u001b[39mself\u001b[39m\u001b[39m.\u001b[39m_lock\u001b[39m.\u001b[39mrelease()\n",
      "File \u001b[0;32m/usr/local/lib/python3.8/dist-packages/tensorflow/python/eager/function.py:2453\u001b[0m, in \u001b[0;36mFunction.__call__\u001b[0;34m(self, *args, **kwargs)\u001b[0m\n\u001b[1;32m   2450\u001b[0m \u001b[39mwith\u001b[39;00m \u001b[39mself\u001b[39m\u001b[39m.\u001b[39m_lock:\n\u001b[1;32m   2451\u001b[0m   (graph_function,\n\u001b[1;32m   2452\u001b[0m    filtered_flat_args) \u001b[39m=\u001b[39m \u001b[39mself\u001b[39m\u001b[39m.\u001b[39m_maybe_define_function(args, kwargs)\n\u001b[0;32m-> 2453\u001b[0m \u001b[39mreturn\u001b[39;00m graph_function\u001b[39m.\u001b[39;49m_call_flat(\n\u001b[1;32m   2454\u001b[0m     filtered_flat_args, captured_inputs\u001b[39m=\u001b[39;49mgraph_function\u001b[39m.\u001b[39;49mcaptured_inputs)\n",
      "File \u001b[0;32m/usr/local/lib/python3.8/dist-packages/tensorflow/python/eager/function.py:1860\u001b[0m, in \u001b[0;36mConcreteFunction._call_flat\u001b[0;34m(self, args, captured_inputs, cancellation_manager)\u001b[0m\n\u001b[1;32m   1856\u001b[0m possible_gradient_type \u001b[39m=\u001b[39m gradients_util\u001b[39m.\u001b[39mPossibleTapeGradientTypes(args)\n\u001b[1;32m   1857\u001b[0m \u001b[39mif\u001b[39;00m (possible_gradient_type \u001b[39m==\u001b[39m gradients_util\u001b[39m.\u001b[39mPOSSIBLE_GRADIENT_TYPES_NONE\n\u001b[1;32m   1858\u001b[0m     \u001b[39mand\u001b[39;00m executing_eagerly):\n\u001b[1;32m   1859\u001b[0m   \u001b[39m# No tape is watching; skip to running the function.\u001b[39;00m\n\u001b[0;32m-> 1860\u001b[0m   \u001b[39mreturn\u001b[39;00m \u001b[39mself\u001b[39m\u001b[39m.\u001b[39m_build_call_outputs(\u001b[39mself\u001b[39;49m\u001b[39m.\u001b[39;49m_inference_function\u001b[39m.\u001b[39;49mcall(\n\u001b[1;32m   1861\u001b[0m       ctx, args, cancellation_manager\u001b[39m=\u001b[39;49mcancellation_manager))\n\u001b[1;32m   1862\u001b[0m forward_backward \u001b[39m=\u001b[39m \u001b[39mself\u001b[39m\u001b[39m.\u001b[39m_select_forward_and_backward_functions(\n\u001b[1;32m   1863\u001b[0m     args,\n\u001b[1;32m   1864\u001b[0m     possible_gradient_type,\n\u001b[1;32m   1865\u001b[0m     executing_eagerly)\n\u001b[1;32m   1866\u001b[0m forward_function, args_with_tangents \u001b[39m=\u001b[39m forward_backward\u001b[39m.\u001b[39mforward()\n",
      "File \u001b[0;32m/usr/local/lib/python3.8/dist-packages/tensorflow/python/eager/function.py:497\u001b[0m, in \u001b[0;36m_EagerDefinedFunction.call\u001b[0;34m(self, ctx, args, cancellation_manager)\u001b[0m\n\u001b[1;32m    495\u001b[0m \u001b[39mwith\u001b[39;00m _InterpolateFunctionError(\u001b[39mself\u001b[39m):\n\u001b[1;32m    496\u001b[0m   \u001b[39mif\u001b[39;00m cancellation_manager \u001b[39mis\u001b[39;00m \u001b[39mNone\u001b[39;00m:\n\u001b[0;32m--> 497\u001b[0m     outputs \u001b[39m=\u001b[39m execute\u001b[39m.\u001b[39;49mexecute(\n\u001b[1;32m    498\u001b[0m         \u001b[39mstr\u001b[39;49m(\u001b[39mself\u001b[39;49m\u001b[39m.\u001b[39;49msignature\u001b[39m.\u001b[39;49mname),\n\u001b[1;32m    499\u001b[0m         num_outputs\u001b[39m=\u001b[39;49m\u001b[39mself\u001b[39;49m\u001b[39m.\u001b[39;49m_num_outputs,\n\u001b[1;32m    500\u001b[0m         inputs\u001b[39m=\u001b[39;49margs,\n\u001b[1;32m    501\u001b[0m         attrs\u001b[39m=\u001b[39;49mattrs,\n\u001b[1;32m    502\u001b[0m         ctx\u001b[39m=\u001b[39;49mctx)\n\u001b[1;32m    503\u001b[0m   \u001b[39melse\u001b[39;00m:\n\u001b[1;32m    504\u001b[0m     outputs \u001b[39m=\u001b[39m execute\u001b[39m.\u001b[39mexecute_with_cancellation(\n\u001b[1;32m    505\u001b[0m         \u001b[39mstr\u001b[39m(\u001b[39mself\u001b[39m\u001b[39m.\u001b[39msignature\u001b[39m.\u001b[39mname),\n\u001b[1;32m    506\u001b[0m         num_outputs\u001b[39m=\u001b[39m\u001b[39mself\u001b[39m\u001b[39m.\u001b[39m_num_outputs,\n\u001b[0;32m   (...)\u001b[0m\n\u001b[1;32m    509\u001b[0m         ctx\u001b[39m=\u001b[39mctx,\n\u001b[1;32m    510\u001b[0m         cancellation_manager\u001b[39m=\u001b[39mcancellation_manager)\n",
      "File \u001b[0;32m/usr/local/lib/python3.8/dist-packages/tensorflow/python/eager/execute.py:54\u001b[0m, in \u001b[0;36mquick_execute\u001b[0;34m(op_name, num_outputs, inputs, attrs, ctx, name)\u001b[0m\n\u001b[1;32m     52\u001b[0m \u001b[39mtry\u001b[39;00m:\n\u001b[1;32m     53\u001b[0m   ctx\u001b[39m.\u001b[39mensure_initialized()\n\u001b[0;32m---> 54\u001b[0m   tensors \u001b[39m=\u001b[39m pywrap_tfe\u001b[39m.\u001b[39;49mTFE_Py_Execute(ctx\u001b[39m.\u001b[39;49m_handle, device_name, op_name,\n\u001b[1;32m     55\u001b[0m                                       inputs, attrs, num_outputs)\n\u001b[1;32m     56\u001b[0m \u001b[39mexcept\u001b[39;00m core\u001b[39m.\u001b[39m_NotOkStatusException \u001b[39mas\u001b[39;00m e:\n\u001b[1;32m     57\u001b[0m   \u001b[39mif\u001b[39;00m name \u001b[39mis\u001b[39;00m \u001b[39mnot\u001b[39;00m \u001b[39mNone\u001b[39;00m:\n",
      "\u001b[0;31mKeyboardInterrupt\u001b[0m: "
     ]
    }
   ],
   "source": [
    "## Get model\n",
    "model = get_unet_weightmap(img_w, img_h, img_ch, n_base, LR, \n",
    "            batch_normalization, dropout)\n",
    "\n",
    "train_generator = generator_with_weights(image_train, mask_train, weight_train, batch_size)\n",
    "val_generator = generator_with_weights(image_val, mask_val, weight_val, batch_size)\n",
    "\n",
    "# Compile the model\n",
    "model.compile(loss = [dice_coef_loss],          # Model Compiling   \n",
    "            optimizer = Adam(lr = LR),\n",
    "            metrics = [dice_coef, tf.keras.metrics.Precision(), tf.keras.metrics.Recall()])\n",
    "\n",
    "model_history = model.fit(train_generator, \n",
    "                validation_data = (val_generator), batch_size = batch_size,\n",
    "                epochs = epochs,  verbose=1)"
   ]
  },
  {
   "cell_type": "code",
   "execution_count": 18,
   "metadata": {},
   "outputs": [
    {
     "name": "stdout",
     "output_type": "stream",
     "text": [
      "WARNING:tensorflow:From <ipython-input-18-f5b3b0e9d9d1>:1: is_gpu_available (from tensorflow.python.framework.test_util) is deprecated and will be removed in a future version.\n",
      "Instructions for updating:\n",
      "Use `tf.config.list_physical_devices('GPU')` instead.\n"
     ]
    },
    {
     "data": {
      "text/plain": [
       "True"
      ]
     },
     "execution_count": 18,
     "metadata": {},
     "output_type": "execute_result"
    }
   ],
   "source": [
    "gpu_available = tf.test.is_gpu_available()\n",
    "gpu_available"
   ]
  },
  {
   "cell_type": "code",
   "execution_count": 28,
   "metadata": {},
   "outputs": [],
   "source": [
    "img, mask = next(train_generator)\n"
   ]
  },
  {
   "cell_type": "code",
   "execution_count": 23,
   "metadata": {},
   "outputs": [
    {
     "data": {
      "text/plain": [
       "(8, 240, 240, 1)"
      ]
     },
     "execution_count": 23,
     "metadata": {},
     "output_type": "execute_result"
    }
   ],
   "source": [
    "mask.shape"
   ]
  },
  {
   "cell_type": "code",
   "execution_count": 29,
   "metadata": {},
   "outputs": [
    {
     "data": {
      "image/png": "[encoded data removed]",
      "text/plain": [
       "<Figure size 640x480 with 1 Axes>"
      ]
     },
     "metadata": {},
     "output_type": "display_data"
    },
    {
     "data": {
      "image/png": "[encoded data removed]",
      "text/plain": [
       "<Figure size 640x480 with 1 Axes>"
      ]
     },
     "metadata": {},
     "output_type": "display_data"
    },
    {
     "data": {
      "image/png": "[encoded data removed]",
      "text/plain": [
       "<Figure size 640x480 with 1 Axes>"
      ]
     },
     "metadata": {},
     "output_type": "display_data"
    }
   ],
   "source": [
    "from matplotlib.pyplot import figure\n",
    "\n",
    "i = 4\n",
    "\n",
    "plt.imshow(img[i,:,:,0])\n",
    "plt.show()\n",
    "figure\n",
    "plt.imshow(img[i,:,:,1])\n",
    "plt.show()\n",
    "\n",
    "plt.imshow(mask[i])\n",
    "plt.show()\n"
   ]
  },
  {
   "cell_type": "code",
   "execution_count": 19,
   "metadata": {},
   "outputs": [
    {
     "name": "stdout",
     "output_type": "stream",
     "text": [
      "Model: \"model\"\n",
      "__________________________________________________________________________________________________\n",
      " Layer (type)                   Output Shape         Param #     Connected to                     \n",
      "==================================================================================================\n",
      " input_3 (InputLayer)           [(None, 240, 240, 2  0           []                               \n",
      "                                )]                                                                \n",
      "                                                                                                  \n",
      " conv2d (Conv2D)                (None, 240, 240, 8)  152         ['input_3[0][0]']                \n",
      "                                                                                                  \n",
      " batch_normalization (BatchNorm  (None, 240, 240, 8)  32         ['conv2d[1][0]']                 \n",
      " alization)                                                                                       \n",
      "                                                                                                  \n",
      " activation (Activation)        (None, 240, 240, 8)  0           ['batch_normalization[1][0]']    \n",
      "                                                                                                  \n",
      " conv2d_1 (Conv2D)              (None, 240, 240, 8)  584         ['activation[1][0]']             \n",
      "                                                                                                  \n",
      " batch_normalization_1 (BatchNo  (None, 240, 240, 8)  32         ['conv2d_1[1][0]']               \n",
      " rmalization)                                                                                     \n",
      "                                                                                                  \n",
      " activation_1 (Activation)      (None, 240, 240, 8)  0           ['batch_normalization_1[1][0]']  \n",
      "                                                                                                  \n",
      " max_pooling2d (MaxPooling2D)   (None, 120, 120, 8)  0           ['activation_1[1][0]']           \n",
      "                                                                                                  \n",
      " dropout (Dropout)              (None, 120, 120, 8)  0           ['max_pooling2d[1][0]']          \n",
      "                                                                                                  \n",
      " conv2d_2 (Conv2D)              (None, 120, 120, 16  1168        ['dropout[1][0]']                \n",
      "                                )                                                                 \n",
      "                                                                                                  \n",
      " batch_normalization_2 (BatchNo  (None, 120, 120, 16  64         ['conv2d_2[1][0]']               \n",
      " rmalization)                   )                                                                 \n",
      "                                                                                                  \n",
      " activation_2 (Activation)      (None, 120, 120, 16  0           ['batch_normalization_2[1][0]']  \n",
      "                                )                                                                 \n",
      "                                                                                                  \n",
      " conv2d_3 (Conv2D)              (None, 120, 120, 16  2320        ['activation_2[1][0]']           \n",
      "                                )                                                                 \n",
      "                                                                                                  \n",
      " batch_normalization_3 (BatchNo  (None, 120, 120, 16  64         ['conv2d_3[1][0]']               \n",
      " rmalization)                   )                                                                 \n",
      "                                                                                                  \n",
      " activation_3 (Activation)      (None, 120, 120, 16  0           ['batch_normalization_3[1][0]']  \n",
      "                                )                                                                 \n",
      "                                                                                                  \n",
      " max_pooling2d_1 (MaxPooling2D)  (None, 60, 60, 16)  0           ['activation_3[1][0]']           \n",
      "                                                                                                  \n",
      " dropout_1 (Dropout)            (None, 60, 60, 16)   0           ['max_pooling2d_1[1][0]']        \n",
      "                                                                                                  \n",
      " conv2d_4 (Conv2D)              (None, 60, 60, 32)   4640        ['dropout_1[1][0]']              \n",
      "                                                                                                  \n",
      " batch_normalization_4 (BatchNo  (None, 60, 60, 32)  128         ['conv2d_4[1][0]']               \n",
      " rmalization)                                                                                     \n",
      "                                                                                                  \n",
      " activation_4 (Activation)      (None, 60, 60, 32)   0           ['batch_normalization_4[1][0]']  \n",
      "                                                                                                  \n",
      " conv2d_5 (Conv2D)              (None, 60, 60, 32)   9248        ['activation_4[1][0]']           \n",
      "                                                                                                  \n",
      " batch_normalization_5 (BatchNo  (None, 60, 60, 32)  128         ['conv2d_5[1][0]']               \n",
      " rmalization)                                                                                     \n",
      "                                                                                                  \n",
      " activation_5 (Activation)      (None, 60, 60, 32)   0           ['batch_normalization_5[1][0]']  \n",
      "                                                                                                  \n",
      " max_pooling2d_2 (MaxPooling2D)  (None, 30, 30, 32)  0           ['activation_5[1][0]']           \n",
      "                                                                                                  \n",
      " dropout_2 (Dropout)            (None, 30, 30, 32)   0           ['max_pooling2d_2[1][0]']        \n",
      "                                                                                                  \n",
      " conv2d_6 (Conv2D)              (None, 30, 30, 64)   18496       ['dropout_2[1][0]']              \n",
      "                                                                                                  \n",
      " batch_normalization_6 (BatchNo  (None, 30, 30, 64)  256         ['conv2d_6[1][0]']               \n",
      " rmalization)                                                                                     \n",
      "                                                                                                  \n",
      " activation_6 (Activation)      (None, 30, 30, 64)   0           ['batch_normalization_6[1][0]']  \n",
      "                                                                                                  \n",
      " conv2d_7 (Conv2D)              (None, 30, 30, 64)   36928       ['activation_6[1][0]']           \n",
      "                                                                                                  \n",
      " batch_normalization_7 (BatchNo  (None, 30, 30, 64)  256         ['conv2d_7[1][0]']               \n",
      " rmalization)                                                                                     \n",
      "                                                                                                  \n",
      " activation_7 (Activation)      (None, 30, 30, 64)   0           ['batch_normalization_7[1][0]']  \n",
      "                                                                                                  \n",
      " max_pooling2d_3 (MaxPooling2D)  (None, 15, 15, 64)  0           ['activation_7[1][0]']           \n",
      "                                                                                                  \n",
      " dropout_3 (Dropout)            (None, 15, 15, 64)   0           ['max_pooling2d_3[1][0]']        \n",
      "                                                                                                  \n",
      " conv2d_8 (Conv2D)              (None, 15, 15, 128)  73856       ['dropout_3[1][0]']              \n",
      "                                                                                                  \n",
      " batch_normalization_8 (BatchNo  (None, 15, 15, 128)  512        ['conv2d_8[1][0]']               \n",
      " rmalization)                                                                                     \n",
      "                                                                                                  \n",
      " activation_8 (Activation)      (None, 15, 15, 128)  0           ['batch_normalization_8[1][0]']  \n",
      "                                                                                                  \n",
      " conv2d_9 (Conv2D)              (None, 15, 15, 128)  147584      ['activation_8[1][0]']           \n",
      "                                                                                                  \n",
      " batch_normalization_9 (BatchNo  (None, 15, 15, 128)  512        ['conv2d_9[1][0]']               \n",
      " rmalization)                                                                                     \n",
      "                                                                                                  \n",
      " activation_9 (Activation)      (None, 15, 15, 128)  0           ['batch_normalization_9[1][0]']  \n",
      "                                                                                                  \n",
      " conv2d_transpose (Conv2DTransp  (None, 30, 30, 64)  32832       ['activation_9[1][0]']           \n",
      " ose)                                                                                             \n",
      "                                                                                                  \n",
      " concatenate_1 (Concatenate)    (None, 30, 30, 128)  0           ['conv2d_transpose[1][0]',       \n",
      "                                                                  'activation_7[1][0]']           \n",
      "                                                                                                  \n",
      " dropout_4 (Dropout)            (None, 30, 30, 128)  0           ['concatenate_1[1][0]']          \n",
      "                                                                                                  \n",
      " conv2d_10 (Conv2D)             (None, 30, 30, 64)   73792       ['dropout_4[1][0]']              \n",
      "                                                                                                  \n",
      " batch_normalization_10 (BatchN  (None, 30, 30, 64)  256         ['conv2d_10[1][0]']              \n",
      " ormalization)                                                                                    \n",
      "                                                                                                  \n",
      " activation_10 (Activation)     (None, 30, 30, 64)   0           ['batch_normalization_10[1][0]'] \n",
      "                                                                                                  \n",
      " conv2d_11 (Conv2D)             (None, 30, 30, 64)   36928       ['activation_10[1][0]']          \n",
      "                                                                                                  \n",
      " batch_normalization_11 (BatchN  (None, 30, 30, 64)  256         ['conv2d_11[1][0]']              \n",
      " ormalization)                                                                                    \n",
      "                                                                                                  \n",
      " activation_11 (Activation)     (None, 30, 30, 64)   0           ['batch_normalization_11[1][0]'] \n",
      "                                                                                                  \n",
      " conv2d_transpose_1 (Conv2DTran  (None, 60, 60, 32)  8224        ['activation_11[1][0]']          \n",
      " spose)                                                                                           \n",
      "                                                                                                  \n",
      " concatenate_2 (Concatenate)    (None, 60, 60, 64)   0           ['conv2d_transpose_1[1][0]',     \n",
      "                                                                  'activation_5[1][0]']           \n",
      "                                                                                                  \n",
      " dropout_5 (Dropout)            (None, 60, 60, 64)   0           ['concatenate_2[1][0]']          \n",
      "                                                                                                  \n",
      " conv2d_12 (Conv2D)             (None, 60, 60, 32)   18464       ['dropout_5[1][0]']              \n",
      "                                                                                                  \n",
      " batch_normalization_12 (BatchN  (None, 60, 60, 32)  128         ['conv2d_12[1][0]']              \n",
      " ormalization)                                                                                    \n",
      "                                                                                                  \n",
      " activation_12 (Activation)     (None, 60, 60, 32)   0           ['batch_normalization_12[1][0]'] \n",
      "                                                                                                  \n",
      " conv2d_13 (Conv2D)             (None, 60, 60, 32)   9248        ['activation_12[1][0]']          \n",
      "                                                                                                  \n",
      " batch_normalization_13 (BatchN  (None, 60, 60, 32)  128         ['conv2d_13[1][0]']              \n",
      " ormalization)                                                                                    \n",
      "                                                                                                  \n",
      " activation_13 (Activation)     (None, 60, 60, 32)   0           ['batch_normalization_13[1][0]'] \n",
      "                                                                                                  \n",
      " conv2d_transpose_2 (Conv2DTran  (None, 120, 120, 16  2064       ['activation_13[1][0]']          \n",
      " spose)                         )                                                                 \n",
      "                                                                                                  \n",
      " concatenate_3 (Concatenate)    (None, 120, 120, 32  0           ['conv2d_transpose_2[1][0]',     \n",
      "                                )                                 'activation_3[1][0]']           \n",
      "                                                                                                  \n",
      " dropout_6 (Dropout)            (None, 120, 120, 32  0           ['concatenate_3[1][0]']          \n",
      "                                )                                                                 \n",
      "                                                                                                  \n",
      " conv2d_14 (Conv2D)             (None, 120, 120, 16  4624        ['dropout_6[1][0]']              \n",
      "                                )                                                                 \n",
      "                                                                                                  \n",
      " batch_normalization_14 (BatchN  (None, 120, 120, 16  64         ['conv2d_14[1][0]']              \n",
      " ormalization)                  )                                                                 \n",
      "                                                                                                  \n",
      " activation_14 (Activation)     (None, 120, 120, 16  0           ['batch_normalization_14[1][0]'] \n",
      "                                )                                                                 \n",
      "                                                                                                  \n",
      " conv2d_15 (Conv2D)             (None, 120, 120, 16  2320        ['activation_14[1][0]']          \n",
      "                                )                                                                 \n",
      "                                                                                                  \n",
      " batch_normalization_15 (BatchN  (None, 120, 120, 16  64         ['conv2d_15[1][0]']              \n",
      " ormalization)                  )                                                                 \n",
      "                                                                                                  \n",
      " activation_15 (Activation)     (None, 120, 120, 16  0           ['batch_normalization_15[1][0]'] \n",
      "                                )                                                                 \n",
      "                                                                                                  \n",
      " conv2d_transpose_3 (Conv2DTran  (None, 240, 240, 8)  520        ['activation_15[1][0]']          \n",
      " spose)                                                                                           \n",
      "                                                                                                  \n",
      " concatenate_4 (Concatenate)    (None, 240, 240, 16  0           ['conv2d_transpose_3[1][0]',     \n",
      "                                )                                 'activation_1[1][0]']           \n",
      "                                                                                                  \n",
      " dropout_7 (Dropout)            (None, 240, 240, 16  0           ['concatenate_4[1][0]']          \n",
      "                                )                                                                 \n",
      "                                                                                                  \n",
      " conv2d_16 (Conv2D)             (None, 240, 240, 8)  1160        ['dropout_7[1][0]']              \n",
      "                                                                                                  \n",
      " batch_normalization_16 (BatchN  (None, 240, 240, 8)  32         ['conv2d_16[1][0]']              \n",
      " ormalization)                                                                                    \n",
      "                                                                                                  \n",
      " activation_16 (Activation)     (None, 240, 240, 8)  0           ['batch_normalization_16[1][0]'] \n",
      "                                                                                                  \n",
      " conv2d_17 (Conv2D)             (None, 240, 240, 8)  584         ['activation_16[1][0]']          \n",
      "                                                                                                  \n",
      " batch_normalization_17 (BatchN  (None, 240, 240, 8)  32         ['conv2d_17[1][0]']              \n",
      " ormalization)                                                                                    \n",
      "                                                                                                  \n",
      " activation_17 (Activation)     (None, 240, 240, 8)  0           ['batch_normalization_17[1][0]'] \n",
      "                                                                                                  \n",
      " conv2d_18 (Conv2D)             (None, 240, 240, 1)  9           ['activation_17[1][0]']          \n",
      "                                                                                                  \n",
      " activation_18 (Activation)     (None, 240, 240, 1)  0           ['conv2d_18[1][0]']              \n",
      "                                                                                                  \n",
      "==================================================================================================\n",
      "Total params: 488,689\n",
      "Trainable params: 487,217\n",
      "Non-trainable params: 1,472\n",
      "__________________________________________________________________________________________________\n"
     ]
    },
    {
     "name": "stderr",
     "output_type": "stream",
     "text": [
      "/usr/local/lib/python3.8/dist-packages/keras/optimizers/optimizer_v2/adam.py:110: UserWarning: The `lr` argument is deprecated, use `learning_rate` instead.\n",
      "  super(Adam, self).__init__(name, **kwargs)\n"
     ]
    },
    {
     "name": "stdout",
     "output_type": "stream",
     "text": [
      "Epoch 1/5\n",
      "   3034/Unknown - 569s 185ms/step - loss: 0.8797 - dice_coef: 0.1203 - precision: 0.4840 - recall: 0.9969"
     ]
    },
    {
     "ename": "",
     "evalue": "",
     "output_type": "error",
     "traceback": [
      "\u001b[1;31mThe Kernel crashed while executing code in the the current cell or a previous cell. Please review the code in the cell(s) to identify a possible cause of the failure. Click <a href='https://aka.ms/vscodeJupyterKernelCrash'>here</a> for more info. View Jupyter <a href='command:jupyter.viewOutput'>log</a> for further details."
     ]
    },
    {
     "ename": "",
     "evalue": "",
     "output_type": "error",
     "traceback": [
      "\u001b[1;31mCanceled future for execute_request message before replies were done"
     ]
    }
   ],
   "source": [
    "from matplotlib import image\n",
    "\n",
    "for train, val in kf.split(images, masks, weight_boundary):\n",
    "    image_train, image_val = images[train],images[val]\n",
    "    weight_train, weight_val = weight_boundary[train], weight_boundary[val]\n",
    "    mask_train, mask_val = masks[train], masks[val]\n",
    "    ## Get model\n",
    "    model = get_unet_weightmap(img_w, img_h, img_ch, n_base, LR, \n",
    "                batch_normalization, dropout)\n",
    "\n",
    "    train_generator = generator_with_weights(image_train, mask_train, weight_train, batch_size)\n",
    "    val_generator = generator_with_weights(image_val, mask_val, weight_val, batch_size)\n",
    "    \n",
    "    # Compile the model\n",
    "    model.compile(loss = [dice_coef_loss],          # Model Compiling   \n",
    "                optimizer = Adam(lr = LR),\n",
    "                metrics = [dice_coef, tf.keras.metrics.Precision(), tf.keras.metrics.Recall()])\n",
    "\n",
    "    model_history = model.fit(train_generator, \n",
    "                validation_data = (val_generator), batch_size = batch_size,\n",
    "                epochs = epochs,  verbose=1)\n",
    "\n",
    "\n",
    "    # evaluate the model\n",
    "    scores = model.evaluate(image_val, mask_val, verbose=1)\n",
    "    print(\"%s: %.2f%%\" % (model.metrics_names[1], scores[1]*100))\n",
    "    cvscores.append(scores[1] * 100)\n",
    "    \n",
    "    print(\"%.2f%% (+/- %.2f%%)\" % (np.mean(cvscores), np.std(cvscores)))\n",
    "\n"
   ]
  },
  {
   "cell_type": "code",
   "execution_count": 73,
   "metadata": {},
   "outputs": [
    {
     "data": {
      "text/plain": [
       "[2.9252661392092705, 10.042130947113037, 4.18890155851841, 3.611527383327484]"
      ]
     },
     "execution_count": 73,
     "metadata": {},
     "output_type": "execute_result"
    }
   ],
   "source": [
    "cvscores"
   ]
  },
  {
   "cell_type": "code",
   "execution_count": 74,
   "metadata": {},
   "outputs": [
    {
     "data": {
      "text/plain": [
       "['loss', 'dice_coef', 'precision_8', 'recall_8']"
      ]
     },
     "execution_count": 74,
     "metadata": {},
     "output_type": "execute_result"
    }
   ],
   "source": [
    "model.metrics_names"
   ]
  },
  {
   "cell_type": "code",
   "execution_count": null,
   "metadata": {},
   "outputs": [],
   "source": []
  }
 ],
 "metadata": {
  "kernelspec": {
   "display_name": "Python 3",
   "language": "python",
   "name": "python3"
  },
  "language_info": {
   "codemirror_mode": {
    "name": "ipython",
    "version": 3
   },
   "file_extension": ".py",
   "mimetype": "text/x-python",
   "name": "python",
   "nbconvert_exporter": "python",
   "pygments_lexer": "ipython3",
   "version": "3.8.10"
  },
  "vscode": {
   "interpreter": {
    "hash": "40d3a090f54c6569ab1632332b64b2c03c39dcf918b08424e98f38b5ae0af88f"
   }
  }
 },
 "nbformat": 4,
 "nbformat_minor": 2
}
