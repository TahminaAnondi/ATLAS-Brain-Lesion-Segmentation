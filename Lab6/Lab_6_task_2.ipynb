{
 "cells": [
  {
   "cell_type": "code",
   "execution_count": 1,
   "metadata": {},
   "outputs": [
    {
     "name": "stdout",
     "output_type": "stream",
     "text": [
      "Requirement already satisfied: nibabel in /usr/local/lib/python3.8/dist-packages (4.0.2)\n",
      "Requirement already satisfied: numpy>=1.17 in /usr/local/lib/python3.8/dist-packages (from nibabel) (1.22.3)\n",
      "Requirement already satisfied: packaging>=17.0 in /usr/local/lib/python3.8/dist-packages (from nibabel) (21.3)\n",
      "Requirement already satisfied: setuptools in /usr/local/lib/python3.8/dist-packages (from nibabel) (62.2.0)\n",
      "Requirement already satisfied: pyparsing!=3.0.5,>=2.0.2 in /usr/local/lib/python3.8/dist-packages (from packaging>=17.0->nibabel) (3.0.9)\n",
      "\u001b[33mWARNING: Running pip as the 'root' user can result in broken permissions and conflicting behaviour with the system package manager. It is recommended to use a virtual environment instead: https://pip.pypa.io/warnings/venv\u001b[0m\u001b[33m\n",
      "\u001b[0m--- Logging error ---\n",
      "Traceback (most recent call last):\n",
      "  File \"/usr/local/lib/python3.8/dist-packages/pip/_internal/utils/logging.py\", line 177, in emit\n",
      "    self.console.print(renderable, overflow=\"ignore\", crop=False, style=style)\n",
      "  File \"/usr/local/lib/python3.8/dist-packages/pip/_vendor/rich/console.py\", line 1673, in print\n",
      "    extend(render(renderable, render_options))\n",
      "  File \"/usr/local/lib/python3.8/dist-packages/pip/_vendor/rich/console.py\", line 1305, in render\n",
      "    for render_output in iter_render:\n",
      "  File \"/usr/local/lib/python3.8/dist-packages/pip/_internal/utils/logging.py\", line 134, in __rich_console__\n",
      "    for line in lines:\n",
      "  File \"/usr/local/lib/python3.8/dist-packages/pip/_vendor/rich/segment.py\", line 249, in split_lines\n",
      "    for segment in segments:\n",
      "  File \"/usr/local/lib/python3.8/dist-packages/pip/_vendor/rich/console.py\", line 1283, in render\n",
      "    renderable = rich_cast(renderable)\n",
      "  File \"/usr/local/lib/python3.8/dist-packages/pip/_vendor/rich/protocol.py\", line 36, in rich_cast\n",
      "    renderable = cast_method()\n",
      "  File \"/usr/local/lib/python3.8/dist-packages/pip/_internal/self_outdated_check.py\", line 130, in __rich__\n",
      "    pip_cmd = get_best_invocation_for_this_pip()\n",
      "  File \"/usr/local/lib/python3.8/dist-packages/pip/_internal/utils/entrypoints.py\", line 58, in get_best_invocation_for_this_pip\n",
      "    if found_executable and os.path.samefile(\n",
      "  File \"/usr/lib/python3.8/genericpath.py\", line 101, in samefile\n",
      "    s2 = os.stat(f2)\n",
      "FileNotFoundError: [Errno 2] No such file or directory: '/usr/bin/pip'\n",
      "Call stack:\n",
      "  File \"/usr/local/bin/pip\", line 8, in <module>\n",
      "    sys.exit(main())\n",
      "  File \"/usr/local/lib/python3.8/dist-packages/pip/_internal/cli/main.py\", line 70, in main\n",
      "    return command.main(cmd_args)\n",
      "  File \"/usr/local/lib/python3.8/dist-packages/pip/_internal/cli/base_command.py\", line 101, in main\n",
      "    return self._main(args)\n",
      "  File \"/usr/local/lib/python3.8/dist-packages/pip/_internal/cli/base_command.py\", line 223, in _main\n",
      "    self.handle_pip_version_check(options)\n",
      "  File \"/usr/local/lib/python3.8/dist-packages/pip/_internal/cli/req_command.py\", line 190, in handle_pip_version_check\n",
      "    pip_self_version_check(session, options)\n",
      "  File \"/usr/local/lib/python3.8/dist-packages/pip/_internal/self_outdated_check.py\", line 236, in pip_self_version_check\n",
      "    logger.warning(\"[present-rich] %s\", upgrade_prompt)\n",
      "  File \"/usr/lib/python3.8/logging/__init__.py\", line 1458, in warning\n",
      "    self._log(WARNING, msg, args, **kwargs)\n",
      "  File \"/usr/lib/python3.8/logging/__init__.py\", line 1589, in _log\n",
      "    self.handle(record)\n",
      "  File \"/usr/lib/python3.8/logging/__init__.py\", line 1599, in handle\n",
      "    self.callHandlers(record)\n",
      "  File \"/usr/lib/python3.8/logging/__init__.py\", line 1661, in callHandlers\n",
      "    hdlr.handle(record)\n",
      "  File \"/usr/lib/python3.8/logging/__init__.py\", line 954, in handle\n",
      "    self.emit(record)\n",
      "  File \"/usr/local/lib/python3.8/dist-packages/pip/_internal/utils/logging.py\", line 179, in emit\n",
      "    self.handleError(record)\n",
      "Message: '[present-rich] %s'\n",
      "Arguments: (UpgradePrompt(old='22.2.2', new='22.3'),)\n"
     ]
    }
   ],
   "source": [
    "!pip install nibabel"
   ]
  },
  {
   "cell_type": "code",
   "execution_count": 2,
   "metadata": {},
   "outputs": [],
   "source": [
    "import tensorflow as tf\n",
    "import pandas as pd\n",
    "from tensorflow import keras\n",
    "from tensorflow.keras.models import Sequential\n",
    "from tensorflow.keras.layers import Dense, Flatten, Activation, Dropout, SimpleRNN, LSTM,Bidirectional\n",
    "from tensorflow.keras.layers import Conv2D, MaxPooling2D, BatchNormalization, SpatialDropout2D,Conv2DTranspose,Concatenate\n",
    "from tensorflow.keras.optimizers import Adam, RMSprop\n",
    "from tensorflow.keras.preprocessing.image import ImageDataGenerator \n",
    "import matplotlib.pyplot as plt\n",
    "import numpy as np\n",
    "from tensorflow.keras import layers\n",
    "from sklearn.model_selection import train_test_split\n",
    "from tensorflow.keras.models import Model\n",
    "\n"
   ]
  },
  {
   "cell_type": "code",
   "execution_count": 3,
   "metadata": {},
   "outputs": [],
   "source": [
    "import nibabel as nib\n",
    "import numpy as np\n",
    "\n",
    "def load_streamlines(dataPath, subject_ids, bundles, n_tracts_per_bundle):\n",
    "    X = []\n",
    "    y = []\n",
    "    for i in range(len(subject_ids)):\n",
    "        for c in range((len(bundles))):\n",
    "            filename = dataPath + subject_ids[i] + '/' + bundles[c] + '.trk' \n",
    "            tfile = nib.streamlines.load(filename)\n",
    "            streamlines = tfile.streamlines\n",
    "\n",
    "            n_tracts_total = len(streamlines)\n",
    "            ix_tracts = np.random.choice(range(n_tracts_total), n_tracts_per_bundle, replace=False)\n",
    "\n",
    "            streamlines_data = streamlines.get_data()\n",
    "            streamlines_offsets = streamlines._offsets\n",
    "            for j in range(n_tracts_per_bundle):\n",
    "                ix_j = ix_tracts[j]\n",
    "                offset_start = streamlines_offsets[ix_j] \n",
    "                if ix_j < (n_tracts_total - 1):\n",
    "                    offset_end = streamlines_offsets[ix_j + 1]\n",
    "                    streamline_j = streamlines_data[offset_start:offset_end] \n",
    "                else:\n",
    "                    streamline_j = streamlines_data[offset_start:] \n",
    "                X.append(np.asarray(streamline_j))\n",
    "                y.append(c)\n",
    "    return X, y\n"
   ]
  },
  {
   "cell_type": "code",
   "execution_count": 4,
   "metadata": {},
   "outputs": [],
   "source": [
    "dataPath = '/DL_course_data/Lab5/HCP_lab/'\n",
    "train_subjects_list = ['599469','599671','601127']\n",
    "val_subjects_list = ['613538']\n",
    "n_tracts_per_bundle = 20\n",
    "\n",
    "bundles_list = ['CST_left', 'CST_right']\n",
    "X_train, y_train = load_streamlines(dataPath, train_subjects_list, bundles_list, n_tracts_per_bundle)\n",
    "X_val, y_val = load_streamlines(dataPath, val_subjects_list, bundles_list, n_tracts_per_bundle)"
   ]
  },
  {
   "cell_type": "code",
   "execution_count": 18,
   "metadata": {},
   "outputs": [],
   "source": [
    "def model(units):\n",
    "    model = Sequential()\n",
    "    # Add four LSTM layers\n",
    "    # batch_shape// inputs\n",
    "    model.add(Bidirectional(LSTM(units, return_sequences=True, stateful = True),batch_input_shape=(1,None, 3)))\n",
    "    model.add(Dropout(0.2))\n",
    "\n",
    "    model.add(LSTM(units=units, return_sequences= True, stateful = True ))\n",
    "    model.add(Dropout(0.2))\n",
    "\n",
    "    model.add(LSTM(units=units, return_sequences= True, stateful = True ))\n",
    "    model.add(Dropout(0.2))\n",
    "\n",
    "    model.add(LSTM(units=units, return_sequences= False, stateful = True ))\n",
    "    model.add(Dropout(0.2))\n",
    "\n",
    "    model.add(Dense(2, activation='softmax'))\n",
    "    model.summary()\n",
    "\n",
    "    return model"
   ]
  },
  {
   "cell_type": "code",
   "execution_count": 6,
   "metadata": {},
   "outputs": [],
   "source": [
    "from tensorflow.keras.utils import Sequence \n",
    "class MyBatchGenerator(Sequence):\n",
    "    def __init__(self, X, y, batch_size=1, shuffle=True):\n",
    "        self.X = X \n",
    "        self.y = y\n",
    "        self.batch_size = batch_size \n",
    "        self.shuffle = shuffle \n",
    "        self.on_epoch_end()\n",
    "    def __len__(self):\n",
    "        'Get number of batches per epoch'\n",
    "        return int(np.floor(len(self.y)/self.batch_size))\n",
    "    def __getitem__(self, index):\n",
    "        return self.__data_generation(index)\n",
    "    def on_epoch_end(self):\n",
    "        'Shuffle indexes after each epoch' \n",
    "        self.indexes = np.arange(len(self.y)) \n",
    "        if self.shuffle == True:\n",
    "            np.random.shuffle(self.indexes)\n",
    "    def __data_generation(self, index):\n",
    "        Xb = np.empty((self.batch_size, *self.X[index].shape)) \n",
    "        yb = np.empty((self.batch_size, 1))\n",
    "        for s in range(0, self.batch_size):\n",
    "            Xb[s] = self.X[index]\n",
    "            yb[s] = self.y[index] \n",
    "        return Xb, yb"
   ]
  },
  {
   "cell_type": "code",
   "execution_count": 7,
   "metadata": {},
   "outputs": [
    {
     "name": "stdout",
     "output_type": "stream",
     "text": [
      "Model: \"sequential\"\n",
      "_________________________________________________________________\n",
      " Layer (type)                Output Shape              Param #   \n",
      "=================================================================\n",
      " bidirectional (Bidirectiona  (1, None, 20)            1120      \n",
      " l)                                                              \n",
      "                                                                 \n",
      " dropout (Dropout)           (1, None, 20)             0         \n",
      "                                                                 \n",
      " lstm_1 (LSTM)               (1, None, 10)             1240      \n",
      "                                                                 \n",
      " dropout_1 (Dropout)         (1, None, 10)             0         \n",
      "                                                                 \n",
      " lstm_2 (LSTM)               (1, None, 10)             840       \n",
      "                                                                 \n",
      " dropout_2 (Dropout)         (1, None, 10)             0         \n",
      "                                                                 \n",
      " lstm_3 (LSTM)               (1, 10)                   840       \n",
      "                                                                 \n",
      " dropout_3 (Dropout)         (1, 10)                   0         \n",
      "                                                                 \n",
      " dense (Dense)               (1, 2)                    22        \n",
      "                                                                 \n",
      "=================================================================\n",
      "Total params: 4,062\n",
      "Trainable params: 4,062\n",
      "Non-trainable params: 0\n",
      "_________________________________________________________________\n"
     ]
    },
    {
     "name": "stderr",
     "output_type": "stream",
     "text": [
      "/usr/local/lib/python3.8/dist-packages/keras/optimizers/optimizer_v2/adam.py:110: UserWarning: The `lr` argument is deprecated, use `learning_rate` instead.\n",
      "  super(Adam, self).__init__(name, **kwargs)\n"
     ]
    }
   ],
   "source": [
    "n_epochs = 50\n",
    "LR = 1e-3\n",
    "model = model(5)\n",
    "model.compile(loss='categorical_crossentropy', optimizer = Adam(lr = LR), metrics=['mean_absolute_error'])"
   ]
  },
  {
   "cell_type": "code",
   "execution_count": 8,
   "metadata": {},
   "outputs": [
    {
     "name": "stdout",
     "output_type": "stream",
     "text": [
      "Epoch 1/50\n"
     ]
    },
    {
     "name": "stderr",
     "output_type": "stream",
     "text": [
      "<ipython-input-8-afd94a822aa3>:1: UserWarning: `Model.fit_generator` is deprecated and will be removed in a future version. Please use `Model.fit`, which supports generators.\n",
      "  model_history = model.fit_generator(MyBatchGenerator(X_train, y_train, batch_size=1),\n"
     ]
    },
    {
     "name": "stdout",
     "output_type": "stream",
     "text": [
      "120/120 [==============================] - 7s 18ms/step - loss: 0.7020 - mean_absolute_error: 0.5000 - val_loss: 0.6939 - val_mean_absolute_error: 0.5000\n",
      "Epoch 2/50\n",
      "120/120 [==============================] - 1s 8ms/step - loss: 0.7261 - mean_absolute_error: 0.5000 - val_loss: 0.6979 - val_mean_absolute_error: 0.5000\n",
      "Epoch 3/50\n",
      "120/120 [==============================] - 1s 8ms/step - loss: 0.7388 - mean_absolute_error: 0.5000 - val_loss: 0.6972 - val_mean_absolute_error: 0.5000\n",
      "Epoch 4/50\n",
      "120/120 [==============================] - 1s 8ms/step - loss: 0.7768 - mean_absolute_error: 0.5000 - val_loss: 0.6943 - val_mean_absolute_error: 0.5000\n",
      "Epoch 5/50\n",
      "120/120 [==============================] - 1s 9ms/step - loss: 0.7781 - mean_absolute_error: 0.5000 - val_loss: 0.6947 - val_mean_absolute_error: 0.5000\n",
      "Epoch 6/50\n",
      "120/120 [==============================] - 1s 10ms/step - loss: 0.8090 - mean_absolute_error: 0.5000 - val_loss: 0.6934 - val_mean_absolute_error: 0.5000\n",
      "Epoch 7/50\n",
      "120/120 [==============================] - 1s 11ms/step - loss: 0.8048 - mean_absolute_error: 0.5000 - val_loss: 0.6948 - val_mean_absolute_error: 0.5000\n",
      "Epoch 8/50\n",
      "120/120 [==============================] - 1s 9ms/step - loss: 0.7985 - mean_absolute_error: 0.5000 - val_loss: 0.6982 - val_mean_absolute_error: 0.5000\n",
      "Epoch 9/50\n",
      "120/120 [==============================] - 1s 8ms/step - loss: 0.8287 - mean_absolute_error: 0.5000 - val_loss: 0.6933 - val_mean_absolute_error: 0.5000\n",
      "Epoch 10/50\n",
      "120/120 [==============================] - 1s 8ms/step - loss: 0.7865 - mean_absolute_error: 0.5000 - val_loss: 0.6933 - val_mean_absolute_error: 0.5000\n",
      "Epoch 11/50\n",
      "120/120 [==============================] - 1s 8ms/step - loss: 0.8024 - mean_absolute_error: 0.5000 - val_loss: 0.6939 - val_mean_absolute_error: 0.5000\n",
      "Epoch 12/50\n",
      "120/120 [==============================] - 1s 8ms/step - loss: 0.8174 - mean_absolute_error: 0.5000 - val_loss: 0.6942 - val_mean_absolute_error: 0.5000\n",
      "Epoch 13/50\n",
      "120/120 [==============================] - 1s 8ms/step - loss: 0.7985 - mean_absolute_error: 0.5000 - val_loss: 0.6931 - val_mean_absolute_error: 0.5000\n",
      "Epoch 14/50\n",
      "120/120 [==============================] - 1s 9ms/step - loss: 0.8058 - mean_absolute_error: 0.5000 - val_loss: 0.6935 - val_mean_absolute_error: 0.5000\n",
      "Epoch 15/50\n",
      "120/120 [==============================] - 1s 8ms/step - loss: 0.8497 - mean_absolute_error: 0.5000 - val_loss: 0.6938 - val_mean_absolute_error: 0.5000\n",
      "Epoch 16/50\n",
      "120/120 [==============================] - 1s 8ms/step - loss: 0.8080 - mean_absolute_error: 0.5000 - val_loss: 0.6932 - val_mean_absolute_error: 0.5000\n",
      "Epoch 17/50\n",
      "120/120 [==============================] - 1s 8ms/step - loss: 0.7753 - mean_absolute_error: 0.5000 - val_loss: 0.6933 - val_mean_absolute_error: 0.5000\n",
      "Epoch 18/50\n",
      "120/120 [==============================] - 1s 9ms/step - loss: 0.7998 - mean_absolute_error: 0.5000 - val_loss: 0.6989 - val_mean_absolute_error: 0.5000\n",
      "Epoch 19/50\n",
      "120/120 [==============================] - 1s 8ms/step - loss: 0.8265 - mean_absolute_error: 0.5000 - val_loss: 0.6946 - val_mean_absolute_error: 0.5000\n",
      "Epoch 20/50\n",
      "120/120 [==============================] - 1s 8ms/step - loss: 0.7876 - mean_absolute_error: 0.5000 - val_loss: 0.6945 - val_mean_absolute_error: 0.5000\n",
      "Epoch 21/50\n",
      "120/120 [==============================] - 1s 8ms/step - loss: 0.8095 - mean_absolute_error: 0.5000 - val_loss: 0.6935 - val_mean_absolute_error: 0.5000\n",
      "Epoch 22/50\n",
      "120/120 [==============================] - 1s 8ms/step - loss: 0.8229 - mean_absolute_error: 0.5000 - val_loss: 0.6939 - val_mean_absolute_error: 0.5000\n",
      "Epoch 23/50\n",
      "120/120 [==============================] - 1s 8ms/step - loss: 0.8230 - mean_absolute_error: 0.5000 - val_loss: 0.6945 - val_mean_absolute_error: 0.5000\n",
      "Epoch 24/50\n",
      "120/120 [==============================] - 1s 9ms/step - loss: 0.8056 - mean_absolute_error: 0.5000 - val_loss: 0.6945 - val_mean_absolute_error: 0.5000\n",
      "Epoch 25/50\n",
      "120/120 [==============================] - 1s 9ms/step - loss: 0.8372 - mean_absolute_error: 0.5000 - val_loss: 0.6949 - val_mean_absolute_error: 0.5000\n",
      "Epoch 26/50\n",
      "120/120 [==============================] - 1s 8ms/step - loss: 0.8127 - mean_absolute_error: 0.5000 - val_loss: 0.6950 - val_mean_absolute_error: 0.5000\n",
      "Epoch 27/50\n",
      "120/120 [==============================] - 1s 8ms/step - loss: 0.8200 - mean_absolute_error: 0.5000 - val_loss: 0.6932 - val_mean_absolute_error: 0.5000\n",
      "Epoch 28/50\n",
      "120/120 [==============================] - 1s 9ms/step - loss: 0.7641 - mean_absolute_error: 0.5000 - val_loss: 0.6935 - val_mean_absolute_error: 0.5000\n",
      "Epoch 29/50\n",
      "120/120 [==============================] - 1s 8ms/step - loss: 0.8249 - mean_absolute_error: 0.5000 - val_loss: 0.6938 - val_mean_absolute_error: 0.5000\n",
      "Epoch 30/50\n",
      "120/120 [==============================] - 1s 9ms/step - loss: 0.8160 - mean_absolute_error: 0.5000 - val_loss: 0.6935 - val_mean_absolute_error: 0.5000\n",
      "Epoch 31/50\n",
      "120/120 [==============================] - 1s 8ms/step - loss: 0.8094 - mean_absolute_error: 0.5000 - val_loss: 0.6935 - val_mean_absolute_error: 0.5000\n",
      "Epoch 32/50\n",
      "120/120 [==============================] - 1s 8ms/step - loss: 0.7884 - mean_absolute_error: 0.5000 - val_loss: 0.6932 - val_mean_absolute_error: 0.5000\n",
      "Epoch 33/50\n",
      "120/120 [==============================] - 1s 9ms/step - loss: 0.7839 - mean_absolute_error: 0.5000 - val_loss: 0.6935 - val_mean_absolute_error: 0.5000\n",
      "Epoch 34/50\n",
      "120/120 [==============================] - 1s 9ms/step - loss: 0.7915 - mean_absolute_error: 0.5000 - val_loss: 0.6946 - val_mean_absolute_error: 0.5000\n",
      "Epoch 35/50\n",
      "120/120 [==============================] - 1s 9ms/step - loss: 0.7789 - mean_absolute_error: 0.5000 - val_loss: 0.6944 - val_mean_absolute_error: 0.5000\n",
      "Epoch 36/50\n",
      "120/120 [==============================] - 1s 8ms/step - loss: 0.7967 - mean_absolute_error: 0.5000 - val_loss: 0.6957 - val_mean_absolute_error: 0.5000\n",
      "Epoch 37/50\n",
      "120/120 [==============================] - 1s 9ms/step - loss: 0.8261 - mean_absolute_error: 0.5000 - val_loss: 0.6938 - val_mean_absolute_error: 0.5000\n",
      "Epoch 38/50\n",
      "120/120 [==============================] - 1s 8ms/step - loss: 0.7756 - mean_absolute_error: 0.5000 - val_loss: 0.6944 - val_mean_absolute_error: 0.5000\n",
      "Epoch 39/50\n",
      "120/120 [==============================] - 1s 8ms/step - loss: 0.7625 - mean_absolute_error: 0.5000 - val_loss: 0.6940 - val_mean_absolute_error: 0.5000\n",
      "Epoch 40/50\n",
      "120/120 [==============================] - 1s 8ms/step - loss: 0.8152 - mean_absolute_error: 0.5000 - val_loss: 0.6937 - val_mean_absolute_error: 0.5000\n",
      "Epoch 41/50\n",
      "120/120 [==============================] - 1s 9ms/step - loss: 0.8124 - mean_absolute_error: 0.5000 - val_loss: 0.6934 - val_mean_absolute_error: 0.5000\n",
      "Epoch 42/50\n",
      "120/120 [==============================] - 1s 9ms/step - loss: 0.7866 - mean_absolute_error: 0.5000 - val_loss: 0.6932 - val_mean_absolute_error: 0.5000\n",
      "Epoch 43/50\n",
      "120/120 [==============================] - 1s 10ms/step - loss: 0.8062 - mean_absolute_error: 0.5000 - val_loss: 0.6933 - val_mean_absolute_error: 0.5000\n",
      "Epoch 44/50\n",
      "120/120 [==============================] - 1s 8ms/step - loss: 0.8009 - mean_absolute_error: 0.5000 - val_loss: 0.6935 - val_mean_absolute_error: 0.5000\n",
      "Epoch 45/50\n",
      "120/120 [==============================] - 1s 8ms/step - loss: 0.7952 - mean_absolute_error: 0.5000 - val_loss: 0.6951 - val_mean_absolute_error: 0.5000\n",
      "Epoch 46/50\n",
      "120/120 [==============================] - 1s 8ms/step - loss: 0.7939 - mean_absolute_error: 0.5000 - val_loss: 0.6957 - val_mean_absolute_error: 0.5000\n",
      "Epoch 47/50\n",
      "120/120 [==============================] - 1s 8ms/step - loss: 0.8145 - mean_absolute_error: 0.5000 - val_loss: 0.6934 - val_mean_absolute_error: 0.5000\n",
      "Epoch 48/50\n",
      "120/120 [==============================] - 1s 8ms/step - loss: 0.8069 - mean_absolute_error: 0.5000 - val_loss: 0.6931 - val_mean_absolute_error: 0.5000\n",
      "Epoch 49/50\n",
      "120/120 [==============================] - 1s 8ms/step - loss: 0.8010 - mean_absolute_error: 0.5000 - val_loss: 0.6932 - val_mean_absolute_error: 0.5000\n",
      "Epoch 50/50\n",
      "120/120 [==============================] - 1s 8ms/step - loss: 0.7934 - mean_absolute_error: 0.5000 - val_loss: 0.6932 - val_mean_absolute_error: 0.5000\n"
     ]
    }
   ],
   "source": [
    "model_history = model.fit_generator(MyBatchGenerator(X_train, y_train, batch_size=1), \n",
    "                epochs=n_epochs, validation_data=MyBatchGenerator(X_val, y_val, batch_size=1), \n",
    "                validation_steps=len(X_val))\n",
    " "
   ]
  },
  {
   "cell_type": "code",
   "execution_count": 11,
   "metadata": {},
   "outputs": [
    {
     "data": {
      "text/plain": [
       "<keras.callbacks.History at 0x7fd8ac57ca60>"
      ]
     },
     "execution_count": 11,
     "metadata": {},
     "output_type": "execute_result"
    }
   ],
   "source": [
    "model_history"
   ]
  },
  {
   "cell_type": "code",
   "execution_count": 14,
   "metadata": {},
   "outputs": [],
   "source": [
    "def show_hist(History): \n",
    "    plt.figure(figsize=(3, 3))\n",
    "    plt.title(\"Learning curve\")\n",
    "    plt.plot(History.history[\"loss\"], label=\"loss\")\n",
    "    plt.plot(History.history[\"val_loss\"], label=\"val_loss\")\n",
    "    plt.plot( np.argmin(History.history[\"val_loss\"]),\n",
    "            np.min(History.history[\"val_loss\"]),\n",
    "            marker=\"x\", color=\"r\", label=\"best model\")\n",
    "\n",
    "    plt.xlabel(\"Epochs\")\n",
    "    plt.ylabel(\"Loss Value\")\n",
    "    plt.legend()\n",
    "    plt.show()\n",
    "\n",
    "    plt.figure\n",
    "\n",
    "    plt.figure(figsize=(3, 3))\n",
    "    plt.title(\"dice_coef\")\n",
    "    plt.plot(History.history[\"mean_absolute_error\"], label=\"mean_absolute_error\")\n",
    "    plt.plot(History.history[\"val_mean_absolute_error\"], label=\"val_mean_absolute_error\")\n",
    "    plt.plot( np.argmax(History.history[\"val_mean_absolute_error\"]),\n",
    "            np.max(History.history[\"val_mean_absolute_error\"]),\n",
    "            marker=\"x\", color=\"r\", label=\"best model\")\n",
    "\n",
    "    plt.xlabel(\"Epochs\")\n",
    "    plt.ylabel(\"dice_coef\")\n",
    "    plt.legend()\n",
    "    plt.show()\n"
   ]
  },
  {
   "cell_type": "code",
   "execution_count": 13,
   "metadata": {},
   "outputs": [
    {
     "name": "stdout",
     "output_type": "stream",
     "text": [
      "dict_keys(['loss', 'mean_absolute_error', 'val_loss', 'val_mean_absolute_error'])\n"
     ]
    }
   ],
   "source": [
    "print(model_history.history.keys())\n"
   ]
  },
  {
   "cell_type": "code",
   "execution_count": 20,
   "metadata": {},
   "outputs": [
    {
     "data": {
      "image/png": "[encoded data removed]",
      "text/plain": [
       "<Figure size 300x300 with 1 Axes>"
      ]
     },
     "metadata": {},
     "output_type": "display_data"
    },
    {
     "data": {
      "image/png": "[encoded data removed]",
      "text/plain": [
       "<Figure size 300x300 with 1 Axes>"
      ]
     },
     "metadata": {},
     "output_type": "display_data"
    }
   ],
   "source": [
    "show_hist(model_history)"
   ]
  }
 ],
 "metadata": {
  "kernelspec": {
   "display_name": "Python 3",
   "language": "python",
   "name": "python3"
  },
  "language_info": {
   "codemirror_mode": {
    "name": "ipython",
    "version": 3
   },
   "file_extension": ".py",
   "mimetype": "text/x-python",
   "name": "python",
   "nbconvert_exporter": "python",
   "pygments_lexer": "ipython3",
   "version": "3.8.10"
  },
  "orig_nbformat": 4,
  "vscode": {
   "interpreter": {
    "hash": "aee8b7b246df8f9039afb4144a1f6fd8d2ca17a180786b69acc140d282b71a49"
   }
  }
 },
 "nbformat": 4,
 "nbformat_minor": 2
}
