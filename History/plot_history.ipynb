{
 "cells": [
  {
   "cell_type": "code",
   "execution_count": 3,
   "metadata": {},
   "outputs": [],
   "source": [
    "import matplotlib.pyplot as plt\n",
    "import pandas as pd\n",
    "\n",
    "\n",
    "df = pd.read_csv('/Users/xinyi/Documents/GitHub/deep_learning_G5/History/run-pretrain1117-1457-tag-epoch_dice_coef.csv')\n",
    "df_ = pd.read_csv('/Users/xinyi/Documents/GitHub/deep_learning_G5/History/run-pretrain1117-1457-tag-epoch_val_dice_coef.csv')"
   ]
  },
  {
   "cell_type": "code",
   "execution_count": 15,
   "metadata": {},
   "outputs": [],
   "source": [
    "import os\n",
    "def plot_dice(csv_paths,modelname):\n",
    "    df = pd.read_csv(csv_paths[0])\n",
    "    df_ = pd.read_csv(csv_paths[1])\n",
    "    res = pd.DataFrame()\n",
    "    res['epoch'] = df['Step']\n",
    "    res['dice'] = df['Value']\n",
    "    res['val_dice'] = df_['Value']\n",
    "    tit = \"Dice Coefficence of \"\n",
    "    res[['epoch', 'dice', 'val_dice']].plot(\n",
    "        x='epoch',\n",
    "        xlabel='x',\n",
    "        ylabel='y',\n",
    "        title='')\n",
    "\n",
    "    plt.show()\n",
    "    plt.savefig(modelname+\"_dice\")\n"
   ]
  },
  {
   "cell_type": "code",
   "execution_count": 16,
   "metadata": {},
   "outputs": [
    {
     "data": {
      "image/png": "[encoded data removed]",
      "text/plain": [
       "<Figure size 432x288 with 1 Axes>"
      ]
     },
     "metadata": {
      "needs_background": "light"
     },
     "output_type": "display_data"
    },
    {
     "data": {
      "text/plain": [
       "<Figure size 432x288 with 0 Axes>"
      ]
     },
     "metadata": {},
     "output_type": "display_data"
    }
   ],
   "source": [
    "pre_paths = ['/Users/xinyi/Documents/GitHub/deep_learning_G5/History/run-pretrain1117-1457-tag-epoch_dice_coef.csv',\n",
    "            '/Users/xinyi/Documents/GitHub/deep_learning_G5/History/run-pretrain1117-1457-tag-epoch_val_dice_coef.csv']\n",
    "pre_label = \"pretrain_model\"\n",
    "plot_dice(pre_paths,pre_label)"
   ]
  },
  {
   "cell_type": "code",
   "execution_count": 9,
   "metadata": {},
   "outputs": [
    {
     "data": {
      "text/html": [
       "<div>\n",
       "<style scoped>\n",
       "    .dataframe tbody tr th:only-of-type {\n",
       "        vertical-align: middle;\n",
       "    }\n",
       "\n",
       "    .dataframe tbody tr th {\n",
       "        vertical-align: top;\n",
       "    }\n",
       "\n",
       "    .dataframe thead th {\n",
       "        text-align: right;\n",
       "    }\n",
       "</style>\n",
       "<table border=\"1\" class=\"dataframe\">\n",
       "  <thead>\n",
       "    <tr style=\"text-align: right;\">\n",
       "      <th></th>\n",
       "      <th>Wall time</th>\n",
       "      <th>Step</th>\n",
       "      <th>Value</th>\n",
       "    </tr>\n",
       "  </thead>\n",
       "  <tbody>\n",
       "    <tr>\n",
       "      <th>0</th>\n",
       "      <td>1.668694e+09</td>\n",
       "      <td>0</td>\n",
       "      <td>0.072018</td>\n",
       "    </tr>\n",
       "    <tr>\n",
       "      <th>1</th>\n",
       "      <td>1.668695e+09</td>\n",
       "      <td>1</td>\n",
       "      <td>0.138093</td>\n",
       "    </tr>\n",
       "    <tr>\n",
       "      <th>2</th>\n",
       "      <td>1.668696e+09</td>\n",
       "      <td>2</td>\n",
       "      <td>0.255217</td>\n",
       "    </tr>\n",
       "    <tr>\n",
       "      <th>3</th>\n",
       "      <td>1.668697e+09</td>\n",
       "      <td>3</td>\n",
       "      <td>0.434590</td>\n",
       "    </tr>\n",
       "    <tr>\n",
       "      <th>4</th>\n",
       "      <td>1.668697e+09</td>\n",
       "      <td>4</td>\n",
       "      <td>0.604745</td>\n",
       "    </tr>\n",
       "    <tr>\n",
       "      <th>...</th>\n",
       "      <td>...</td>\n",
       "      <td>...</td>\n",
       "      <td>...</td>\n",
       "    </tr>\n",
       "    <tr>\n",
       "      <th>95</th>\n",
       "      <td>1.668771e+09</td>\n",
       "      <td>95</td>\n",
       "      <td>0.927244</td>\n",
       "    </tr>\n",
       "    <tr>\n",
       "      <th>96</th>\n",
       "      <td>1.668772e+09</td>\n",
       "      <td>96</td>\n",
       "      <td>0.927483</td>\n",
       "    </tr>\n",
       "    <tr>\n",
       "      <th>97</th>\n",
       "      <td>1.668773e+09</td>\n",
       "      <td>97</td>\n",
       "      <td>0.927742</td>\n",
       "    </tr>\n",
       "    <tr>\n",
       "      <th>98</th>\n",
       "      <td>1.668774e+09</td>\n",
       "      <td>98</td>\n",
       "      <td>0.928113</td>\n",
       "    </tr>\n",
       "    <tr>\n",
       "      <th>99</th>\n",
       "      <td>1.668774e+09</td>\n",
       "      <td>99</td>\n",
       "      <td>0.928284</td>\n",
       "    </tr>\n",
       "  </tbody>\n",
       "</table>\n",
       "<p>100 rows × 3 columns</p>\n",
       "</div>"
      ],
      "text/plain": [
       "       Wall time  Step     Value\n",
       "0   1.668694e+09     0  0.072018\n",
       "1   1.668695e+09     1  0.138093\n",
       "2   1.668696e+09     2  0.255217\n",
       "3   1.668697e+09     3  0.434590\n",
       "4   1.668697e+09     4  0.604745\n",
       "..           ...   ...       ...\n",
       "95  1.668771e+09    95  0.927244\n",
       "96  1.668772e+09    96  0.927483\n",
       "97  1.668773e+09    97  0.927742\n",
       "98  1.668774e+09    98  0.928113\n",
       "99  1.668774e+09    99  0.928284\n",
       "\n",
       "[100 rows x 3 columns]"
      ]
     },
     "execution_count": 9,
     "metadata": {},
     "output_type": "execute_result"
    }
   ],
   "source": [
    "df"
   ]
  },
  {
   "cell_type": "code",
   "execution_count": 10,
   "metadata": {},
   "outputs": [
    {
     "data": {
      "text/html": [
       "<div>\n",
       "<style scoped>\n",
       "    .dataframe tbody tr th:only-of-type {\n",
       "        vertical-align: middle;\n",
       "    }\n",
       "\n",
       "    .dataframe tbody tr th {\n",
       "        vertical-align: top;\n",
       "    }\n",
       "\n",
       "    .dataframe thead th {\n",
       "        text-align: right;\n",
       "    }\n",
       "</style>\n",
       "<table border=\"1\" class=\"dataframe\">\n",
       "  <thead>\n",
       "    <tr style=\"text-align: right;\">\n",
       "      <th></th>\n",
       "      <th>epoch</th>\n",
       "      <th>dice</th>\n",
       "      <th>val_dice</th>\n",
       "    </tr>\n",
       "  </thead>\n",
       "  <tbody>\n",
       "    <tr>\n",
       "      <th>0</th>\n",
       "      <td>0</td>\n",
       "      <td>0.072018</td>\n",
       "      <td>0.104056</td>\n",
       "    </tr>\n",
       "    <tr>\n",
       "      <th>1</th>\n",
       "      <td>1</td>\n",
       "      <td>0.138093</td>\n",
       "      <td>0.181095</td>\n",
       "    </tr>\n",
       "    <tr>\n",
       "      <th>2</th>\n",
       "      <td>2</td>\n",
       "      <td>0.255217</td>\n",
       "      <td>0.320036</td>\n",
       "    </tr>\n",
       "    <tr>\n",
       "      <th>3</th>\n",
       "      <td>3</td>\n",
       "      <td>0.434590</td>\n",
       "      <td>0.515193</td>\n",
       "    </tr>\n",
       "    <tr>\n",
       "      <th>4</th>\n",
       "      <td>4</td>\n",
       "      <td>0.604745</td>\n",
       "      <td>0.625190</td>\n",
       "    </tr>\n",
       "    <tr>\n",
       "      <th>...</th>\n",
       "      <td>...</td>\n",
       "      <td>...</td>\n",
       "      <td>...</td>\n",
       "    </tr>\n",
       "    <tr>\n",
       "      <th>95</th>\n",
       "      <td>95</td>\n",
       "      <td>0.927244</td>\n",
       "      <td>0.917655</td>\n",
       "    </tr>\n",
       "    <tr>\n",
       "      <th>96</th>\n",
       "      <td>96</td>\n",
       "      <td>0.927483</td>\n",
       "      <td>0.919429</td>\n",
       "    </tr>\n",
       "    <tr>\n",
       "      <th>97</th>\n",
       "      <td>97</td>\n",
       "      <td>0.927742</td>\n",
       "      <td>0.927888</td>\n",
       "    </tr>\n",
       "    <tr>\n",
       "      <th>98</th>\n",
       "      <td>98</td>\n",
       "      <td>0.928113</td>\n",
       "      <td>0.923681</td>\n",
       "    </tr>\n",
       "    <tr>\n",
       "      <th>99</th>\n",
       "      <td>99</td>\n",
       "      <td>0.928284</td>\n",
       "      <td>0.923845</td>\n",
       "    </tr>\n",
       "  </tbody>\n",
       "</table>\n",
       "<p>100 rows × 3 columns</p>\n",
       "</div>"
      ],
      "text/plain": [
       "    epoch      dice  val_dice\n",
       "0       0  0.072018  0.104056\n",
       "1       1  0.138093  0.181095\n",
       "2       2  0.255217  0.320036\n",
       "3       3  0.434590  0.515193\n",
       "4       4  0.604745  0.625190\n",
       "..    ...       ...       ...\n",
       "95     95  0.927244  0.917655\n",
       "96     96  0.927483  0.919429\n",
       "97     97  0.927742  0.927888\n",
       "98     98  0.928113  0.923681\n",
       "99     99  0.928284  0.923845\n",
       "\n",
       "[100 rows x 3 columns]"
      ]
     },
     "execution_count": 10,
     "metadata": {},
     "output_type": "execute_result"
    }
   ],
   "source": [
    "res = pd.DataFrame()\n",
    "res['epoch'] = df['Step']\n",
    "res['dice'] = df['Value']\n",
    "res['val_dice'] = df_['Value']\n",
    "res"
   ]
  },
  {
   "cell_type": "code",
   "execution_count": 11,
   "metadata": {},
   "outputs": [
    {
     "data": {
      "image/png": "[encoded data removed]",
      "text/plain": [
       "<Figure size 432x288 with 1 Axes>"
      ]
     },
     "metadata": {
      "needs_background": "light"
     },
     "output_type": "display_data"
    }
   ],
   "source": [
    "res[['epoch', 'dice', 'val_dice']].plot(\n",
    "    x='epoch',\n",
    "    xlabel='x',\n",
    "    ylabel='y',\n",
    "    title='Dice VS Val_Dice'\n",
    ")\n",
    "\n",
    "plt.show()"
   ]
  },
  {
   "cell_type": "code",
   "execution_count": null,
   "metadata": {},
   "outputs": [],
   "source": []
  }
 ],
 "metadata": {
  "kernelspec": {
   "display_name": "Python 3.9.6 64-bit",
   "language": "python",
   "name": "python3"
  },
  "language_info": {
   "codemirror_mode": {
    "name": "ipython",
    "version": 3
   },
   "file_extension": ".py",
   "mimetype": "text/x-python",
   "name": "python",
   "nbconvert_exporter": "python",
   "pygments_lexer": "ipython3",
   "version": "3.9.6"
  },
  "orig_nbformat": 4,
  "vscode": {
   "interpreter": {
    "hash": "aee8b7b246df8f9039afb4144a1f6fd8d2ca17a180786b69acc140d282b71a49"
   }
  }
 },
 "nbformat": 4,
 "nbformat_minor": 2
}
